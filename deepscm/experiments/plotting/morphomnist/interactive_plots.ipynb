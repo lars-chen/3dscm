{
 "cells": [
  {
   "cell_type": "markdown",
   "metadata": {},
   "source": [
    "# Setup"
   ]
  },
  {
   "cell_type": "code",
   "execution_count": 1,
   "metadata": {},
   "outputs": [
    {
     "name": "stdout",
     "output_type": "stream",
     "text": [
      "Error(s) in loading state_dict for IndependentVISEM:\n",
      "\tMissing key(s) in state_dict: \"thickness_flow_components.0.unnormalized_widths\", \"thickness_flow_components.0.unnormalized_heights\", \"thickness_flow_components.0.unnormalized_derivatives\", \"thickness_flow_components.0.unnormalized_lambdas\", \"intensity_flow_components.1.unnormalized_widths\", \"intensity_flow_components.1.unnormalized_heights\", \"intensity_flow_components.1.unnormalized_derivatives\", \"intensity_flow_components.1.unnormalized_lambdas\". \n",
      "\tUnexpected key(s) in state_dict: \"thickness_flow_components.0.layer.unnormalized_widths\", \"thickness_flow_components.0.layer.unnormalized_heights\", \"thickness_flow_components.0.layer.unnormalized_derivatives\", \"thickness_flow_components.0.layer.unnormalized_lambdas\", \"intensity_flow_components.1.layer.unnormalized_widths\", \"intensity_flow_components.1.layer.unnormalized_heights\", \"intensity_flow_components.1.layer.unnormalized_derivatives\", \"intensity_flow_components.1.layer.unnormalized_lambdas\". \n"
     ]
    },
    {
     "name": "stderr",
     "output_type": "stream",
     "text": [
      "Traceback (most recent call last):\n",
      "  File \"/ritter/share/projects/larschen/deepscmproject/deepscm/experiments/plotting/morphomnist/plotting_helper.py\", line 105, in <module>\n",
      "    loaded_model.load_state_dict(new_state_dict)\n",
      "  File \"/home/lars/anaconda3/envs/scm/lib/python3.7/site-packages/torch/nn/modules/module.py\", line 1672, in load_state_dict\n",
      "    self.__class__.__name__, \"\\n\\t\".join(error_msgs)))\n",
      "RuntimeError: Error(s) in loading state_dict for IndependentVISEM:\n",
      "\tMissing key(s) in state_dict: \"thickness_flow_components.0.unnormalized_widths\", \"thickness_flow_components.0.unnormalized_heights\", \"thickness_flow_components.0.unnormalized_derivatives\", \"thickness_flow_components.0.unnormalized_lambdas\", \"intensity_flow_components.1.unnormalized_widths\", \"intensity_flow_components.1.unnormalized_heights\", \"intensity_flow_components.1.unnormalized_derivatives\", \"intensity_flow_components.1.unnormalized_lambdas\". \n",
      "\tUnexpected key(s) in state_dict: \"thickness_flow_components.0.layer.unnormalized_widths\", \"thickness_flow_components.0.layer.unnormalized_heights\", \"thickness_flow_components.0.layer.unnormalized_derivatives\", \"thickness_flow_components.0.layer.unnormalized_lambdas\", \"intensity_flow_components.1.layer.unnormalized_widths\", \"intensity_flow_components.1.layer.unnormalized_heights\", \"intensity_flow_components.1.layer.unnormalized_derivatives\", \"intensity_flow_components.1.layer.unnormalized_lambdas\". \n"
     ]
    },
    {
     "name": "stdout",
     "output_type": "stream",
     "text": [
      "Error(s) in loading state_dict for ConditionalDecoderVISEM:\n",
      "\tMissing key(s) in state_dict: \"thickness_flow_components.0.unnormalized_widths\", \"thickness_flow_components.0.unnormalized_heights\", \"thickness_flow_components.0.unnormalized_derivatives\", \"thickness_flow_components.0.unnormalized_lambdas\", \"intensity_flow_components.1.unnormalized_widths\", \"intensity_flow_components.1.unnormalized_heights\", \"intensity_flow_components.1.unnormalized_derivatives\", \"intensity_flow_components.1.unnormalized_lambdas\". \n",
      "\tUnexpected key(s) in state_dict: \"thickness_flow_components.0.layer.unnormalized_widths\", \"thickness_flow_components.0.layer.unnormalized_heights\", \"thickness_flow_components.0.layer.unnormalized_derivatives\", \"thickness_flow_components.0.layer.unnormalized_lambdas\", \"intensity_flow_components.1.layer.unnormalized_widths\", \"intensity_flow_components.1.layer.unnormalized_heights\", \"intensity_flow_components.1.layer.unnormalized_derivatives\", \"intensity_flow_components.1.layer.unnormalized_lambdas\". \n",
      "[Errno 21] Is a directory: '../../../../assets/models/morphomnist/SVIExperiment/ConditionalVISEM/version_0/checkpoints/SVIExperiment'\n"
     ]
    },
    {
     "name": "stderr",
     "output_type": "stream",
     "text": [
      "Traceback (most recent call last):\n",
      "  File \"/ritter/share/projects/larschen/deepscmproject/deepscm/experiments/plotting/morphomnist/plotting_helper.py\", line 105, in <module>\n",
      "    loaded_model.load_state_dict(new_state_dict)\n",
      "  File \"/home/lars/anaconda3/envs/scm/lib/python3.7/site-packages/torch/nn/modules/module.py\", line 1672, in load_state_dict\n",
      "    self.__class__.__name__, \"\\n\\t\".join(error_msgs)))\n",
      "RuntimeError: Error(s) in loading state_dict for ConditionalDecoderVISEM:\n",
      "\tMissing key(s) in state_dict: \"thickness_flow_components.0.unnormalized_widths\", \"thickness_flow_components.0.unnormalized_heights\", \"thickness_flow_components.0.unnormalized_derivatives\", \"thickness_flow_components.0.unnormalized_lambdas\", \"intensity_flow_components.1.unnormalized_widths\", \"intensity_flow_components.1.unnormalized_heights\", \"intensity_flow_components.1.unnormalized_derivatives\", \"intensity_flow_components.1.unnormalized_lambdas\". \n",
      "\tUnexpected key(s) in state_dict: \"thickness_flow_components.0.layer.unnormalized_widths\", \"thickness_flow_components.0.layer.unnormalized_heights\", \"thickness_flow_components.0.layer.unnormalized_derivatives\", \"thickness_flow_components.0.layer.unnormalized_lambdas\", \"intensity_flow_components.1.layer.unnormalized_widths\", \"intensity_flow_components.1.layer.unnormalized_heights\", \"intensity_flow_components.1.layer.unnormalized_derivatives\", \"intensity_flow_components.1.layer.unnormalized_lambdas\". \n",
      "Traceback (most recent call last):\n",
      "  File \"/ritter/share/projects/larschen/deepscmproject/deepscm/experiments/plotting/morphomnist/plotting_helper.py\", line 87, in <module>\n",
      "    ckpt = torch.load(checkpoint_path, map_location=torch.device('cpu'))\n",
      "  File \"/home/lars/anaconda3/envs/scm/lib/python3.7/site-packages/torch/serialization.py\", line 771, in load\n",
      "    with _open_file_like(f, 'rb') as opened_file:\n",
      "  File \"/home/lars/anaconda3/envs/scm/lib/python3.7/site-packages/torch/serialization.py\", line 270, in _open_file_like\n",
      "    return _open_file(name_or_buffer, mode)\n",
      "  File \"/home/lars/anaconda3/envs/scm/lib/python3.7/site-packages/torch/serialization.py\", line 251, in __init__\n",
      "    super(_open_file, self).__init__(open(name, mode))\n",
      "IsADirectoryError: [Errno 21] Is a directory: '../../../../assets/models/morphomnist/SVIExperiment/ConditionalVISEM/version_0/checkpoints/SVIExperiment'\n"
     ]
    }
   ],
   "source": [
    "%matplotlib inline\n",
    "\n",
    "from plotting_helper import plot_intervention_range"
   ]
  },
  {
   "cell_type": "markdown",
   "metadata": {},
   "source": [
    "# Plotting"
   ]
  },
  {
   "cell_type": "code",
   "execution_count": 2,
   "metadata": {},
   "outputs": [
    {
     "ename": "NameError",
     "evalue": "name 'plot_intervention_range' is not defined",
     "output_type": "error",
     "traceback": [
      "\u001b[0;31m---------------------------------------------------------------------------\u001b[0m",
      "\u001b[0;31mNameError\u001b[0m                                 Traceback (most recent call last)",
      "\u001b[0;32m/tmp/ipykernel_4193886/885914108.py\u001b[0m in \u001b[0;36m<module>\u001b[0;34m\u001b[0m\n\u001b[1;32m     11\u001b[0m ]\n\u001b[1;32m     12\u001b[0m \u001b[0;34m\u001b[0m\u001b[0m\n\u001b[0;32m---> 13\u001b[0;31m \u001b[0mplot_intervention_range\u001b[0m\u001b[0;34m(\u001b[0m\u001b[0mmodel_name\u001b[0m\u001b[0;34m,\u001b[0m \u001b[0minterventions\u001b[0m\u001b[0;34m,\u001b[0m \u001b[0midx\u001b[0m\u001b[0;34m,\u001b[0m \u001b[0mnormalise_all\u001b[0m\u001b[0;34m=\u001b[0m\u001b[0;32mTrue\u001b[0m\u001b[0;34m,\u001b[0m \u001b[0mnum_samples\u001b[0m\u001b[0;34m=\u001b[0m\u001b[0;36m32\u001b[0m\u001b[0;34m)\u001b[0m\u001b[0;34m\u001b[0m\u001b[0;34m\u001b[0m\u001b[0m\n\u001b[0m\u001b[1;32m     14\u001b[0m \u001b[0;34m\u001b[0m\u001b[0m\n",
      "\u001b[0;31mNameError\u001b[0m: name 'plot_intervention_range' is not defined"
     ]
    }
   ],
   "source": [
    "idx = 0\n",
    "model_name = 'IndependentVISEM'\n",
    "\n",
    "interventions = [\n",
    "    {'thickness': 0.5},\n",
    "    {'thickness': 1.5},\n",
    "    {'thickness': 5.},\n",
    "    {'thickness': 7.},\n",
    "    {'intensity': 224.},\n",
    "    {'intensity': 64.}\n",
    "]\n",
    "\n",
    "plot_intervention_range(model_name, interventions, idx, normalise_all=True, num_samples=32)\n",
    "\n"
   ]
  },
  {
   "cell_type": "code",
   "execution_count": null,
   "metadata": {},
   "outputs": [],
   "source": []
  }
 ],
 "metadata": {
  "kernelspec": {
   "display_name": "scm",
   "language": "python",
   "name": "python3"
  },
  "language_info": {
   "codemirror_mode": {
    "name": "ipython",
    "version": 3
   },
   "file_extension": ".py",
   "mimetype": "text/x-python",
   "name": "python",
   "nbconvert_exporter": "python",
   "pygments_lexer": "ipython3",
   "version": "3.7.2"
  },
  "vscode": {
   "interpreter": {
    "hash": "5c15647747dbcb401ea4d2085f6c4b9bbb12e137ac1297d02dd8d86d32af5ec7"
   }
  }
 },
 "nbformat": 4,
 "nbformat_minor": 2
}
