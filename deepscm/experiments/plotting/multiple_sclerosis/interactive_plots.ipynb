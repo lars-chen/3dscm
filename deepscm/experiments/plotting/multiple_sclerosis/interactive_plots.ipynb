{
 "cells": [
  {
   "cell_type": "markdown",
   "metadata": {},
   "source": [
    "# Setup\n",
    "\n",
    "Skip the next cell if you're not running this on Colab."
   ]
  },
  {
   "cell_type": "code",
   "execution_count": null,
   "metadata": {},
   "outputs": [],
   "source": [
    "# Colab setup\n",
    "! git clone https://github.com/biomedia-mira/deepscm.git\n",
    "! pip install -r deepscm/requirements.txt\n",
    "%cd deepscm/deepscm/experiments/plotting/ukbb/"
   ]
  },
  {
   "cell_type": "code",
   "execution_count": 3,
   "metadata": {},
   "outputs": [
    {
     "ename": "FileNotFoundError",
     "evalue": "[Errno 2] No such file or directory: '../../../../assets/data/ukbb//examples.csv'",
     "output_type": "error",
     "traceback": [
      "\u001b[0;31m---------------------------------------------------------------------------\u001b[0m",
      "\u001b[0;31mFileNotFoundError\u001b[0m                         Traceback (most recent call last)",
      "\u001b[0;32m/tmp/ipykernel_3595246/1762956626.py\u001b[0m in \u001b[0;36m<module>\u001b[0;34m\u001b[0m\n\u001b[1;32m      1\u001b[0m \u001b[0mget_ipython\u001b[0m\u001b[0;34m(\u001b[0m\u001b[0;34m)\u001b[0m\u001b[0;34m.\u001b[0m\u001b[0mrun_line_magic\u001b[0m\u001b[0;34m(\u001b[0m\u001b[0;34m'matplotlib'\u001b[0m\u001b[0;34m,\u001b[0m \u001b[0;34m'inline'\u001b[0m\u001b[0;34m)\u001b[0m\u001b[0;34m\u001b[0m\u001b[0;34m\u001b[0m\u001b[0m\n\u001b[1;32m      2\u001b[0m \u001b[0;34m\u001b[0m\u001b[0m\n\u001b[0;32m----> 3\u001b[0;31m \u001b[0;32mfrom\u001b[0m \u001b[0mplotting_helper\u001b[0m \u001b[0;32mimport\u001b[0m \u001b[0mplot_gen_intervention_range\u001b[0m\u001b[0;34m\u001b[0m\u001b[0;34m\u001b[0m\u001b[0m\n\u001b[0m",
      "\u001b[0;32m/ritter/share/projects/larschen/deepscmproject/deepscm/experiments/plotting/multiple_sclerosis/plotting_helper.py\u001b[0m in \u001b[0;36m<module>\u001b[0;34m\u001b[0m\n\u001b[1;32m     46\u001b[0m \u001b[0mbase_path\u001b[0m \u001b[0;34m=\u001b[0m \u001b[0;34mf'{UKBB_DATA_PATH}/imgs/'\u001b[0m\u001b[0;34m\u001b[0m\u001b[0;34m\u001b[0m\u001b[0m\n\u001b[1;32m     47\u001b[0m \u001b[0mdownsample\u001b[0m \u001b[0;34m=\u001b[0m \u001b[0;36m3\u001b[0m\u001b[0;34m\u001b[0m\u001b[0;34m\u001b[0m\u001b[0m\n\u001b[0;32m---> 48\u001b[0;31m \u001b[0mukbb_test\u001b[0m \u001b[0;34m=\u001b[0m \u001b[0mUKBBDataset\u001b[0m\u001b[0;34m(\u001b[0m\u001b[0mdata_dir\u001b[0m\u001b[0;34m,\u001b[0m \u001b[0mbase_path\u001b[0m\u001b[0;34m=\u001b[0m\u001b[0mbase_path\u001b[0m\u001b[0;34m,\u001b[0m \u001b[0mcrop_type\u001b[0m\u001b[0;34m=\u001b[0m\u001b[0;34m'center'\u001b[0m\u001b[0;34m,\u001b[0m \u001b[0mdownsample\u001b[0m\u001b[0;34m=\u001b[0m\u001b[0mdownsample\u001b[0m\u001b[0;34m)\u001b[0m\u001b[0;34m\u001b[0m\u001b[0;34m\u001b[0m\u001b[0m\n\u001b[0m\u001b[1;32m     49\u001b[0m \u001b[0;34m\u001b[0m\u001b[0m\n\u001b[1;32m     50\u001b[0m \u001b[0;32mfrom\u001b[0m \u001b[0mdeepscm\u001b[0m\u001b[0;34m.\u001b[0m\u001b[0mexperiments\u001b[0m\u001b[0;34m.\u001b[0m\u001b[0mmedical\u001b[0m \u001b[0;32mimport\u001b[0m \u001b[0mukbb\u001b[0m  \u001b[0;31m# noqa: F401\u001b[0m\u001b[0;34m\u001b[0m\u001b[0;34m\u001b[0m\u001b[0m\n",
      "\u001b[0;32m/ritter/share/projects/larschen/deepscmproject/deepscm/datasets/medical/ukbb.py\u001b[0m in \u001b[0;36m__init__\u001b[0;34m(self, csv_path, base_path, crop_type, crop_size, downsample)\u001b[0m\n\u001b[1;32m     13\u001b[0m         \u001b[0msuper\u001b[0m\u001b[0;34m(\u001b[0m\u001b[0;34m)\u001b[0m\u001b[0;34m.\u001b[0m\u001b[0m__init__\u001b[0m\u001b[0;34m(\u001b[0m\u001b[0;34m)\u001b[0m\u001b[0;34m\u001b[0m\u001b[0;34m\u001b[0m\u001b[0m\n\u001b[1;32m     14\u001b[0m         \u001b[0mself\u001b[0m\u001b[0;34m.\u001b[0m\u001b[0mcsv_path\u001b[0m \u001b[0;34m=\u001b[0m \u001b[0mcsv_path\u001b[0m\u001b[0;34m\u001b[0m\u001b[0;34m\u001b[0m\u001b[0m\n\u001b[0;32m---> 15\u001b[0;31m         \u001b[0mdf\u001b[0m \u001b[0;34m=\u001b[0m \u001b[0mpd\u001b[0m\u001b[0;34m.\u001b[0m\u001b[0mread_csv\u001b[0m\u001b[0;34m(\u001b[0m\u001b[0mcsv_path\u001b[0m\u001b[0;34m)\u001b[0m\u001b[0;34m\u001b[0m\u001b[0;34m\u001b[0m\u001b[0m\n\u001b[0m\u001b[1;32m     16\u001b[0m         \u001b[0mself\u001b[0m\u001b[0;34m.\u001b[0m\u001b[0mnum_items\u001b[0m \u001b[0;34m=\u001b[0m \u001b[0mlen\u001b[0m\u001b[0;34m(\u001b[0m\u001b[0mdf\u001b[0m\u001b[0;34m)\u001b[0m\u001b[0;34m\u001b[0m\u001b[0;34m\u001b[0m\u001b[0m\n\u001b[1;32m     17\u001b[0m         \u001b[0mself\u001b[0m\u001b[0;34m.\u001b[0m\u001b[0mmetrics\u001b[0m \u001b[0;34m=\u001b[0m \u001b[0;34m{\u001b[0m\u001b[0mcol\u001b[0m\u001b[0;34m:\u001b[0m \u001b[0mtorch\u001b[0m\u001b[0;34m.\u001b[0m\u001b[0mas_tensor\u001b[0m\u001b[0;34m(\u001b[0m\u001b[0mdf\u001b[0m\u001b[0;34m[\u001b[0m\u001b[0mcol\u001b[0m\u001b[0;34m]\u001b[0m\u001b[0;34m)\u001b[0m\u001b[0;34m.\u001b[0m\u001b[0mfloat\u001b[0m\u001b[0;34m(\u001b[0m\u001b[0;34m)\u001b[0m \u001b[0;32mfor\u001b[0m \u001b[0mcol\u001b[0m \u001b[0;32min\u001b[0m \u001b[0mdf\u001b[0m\u001b[0;34m.\u001b[0m\u001b[0mcolumns\u001b[0m\u001b[0;34m}\u001b[0m\u001b[0;34m\u001b[0m\u001b[0;34m\u001b[0m\u001b[0m\n",
      "\u001b[0;32m~/anaconda3/envs/dscm/lib/python3.7/site-packages/pandas/io/parsers.py\u001b[0m in \u001b[0;36mread_csv\u001b[0;34m(filepath_or_buffer, sep, delimiter, header, names, index_col, usecols, squeeze, prefix, mangle_dupe_cols, dtype, engine, converters, true_values, false_values, skipinitialspace, skiprows, skipfooter, nrows, na_values, keep_default_na, na_filter, verbose, skip_blank_lines, parse_dates, infer_datetime_format, keep_date_col, date_parser, dayfirst, cache_dates, iterator, chunksize, compression, thousands, decimal, lineterminator, quotechar, quoting, doublequote, escapechar, comment, encoding, dialect, error_bad_lines, warn_bad_lines, delim_whitespace, low_memory, memory_map, float_precision, storage_options)\u001b[0m\n\u001b[1;32m    603\u001b[0m     \u001b[0mkwds\u001b[0m\u001b[0;34m.\u001b[0m\u001b[0mupdate\u001b[0m\u001b[0;34m(\u001b[0m\u001b[0mkwds_defaults\u001b[0m\u001b[0;34m)\u001b[0m\u001b[0;34m\u001b[0m\u001b[0;34m\u001b[0m\u001b[0m\n\u001b[1;32m    604\u001b[0m \u001b[0;34m\u001b[0m\u001b[0m\n\u001b[0;32m--> 605\u001b[0;31m     \u001b[0;32mreturn\u001b[0m \u001b[0m_read\u001b[0m\u001b[0;34m(\u001b[0m\u001b[0mfilepath_or_buffer\u001b[0m\u001b[0;34m,\u001b[0m \u001b[0mkwds\u001b[0m\u001b[0;34m)\u001b[0m\u001b[0;34m\u001b[0m\u001b[0;34m\u001b[0m\u001b[0m\n\u001b[0m\u001b[1;32m    606\u001b[0m \u001b[0;34m\u001b[0m\u001b[0m\n\u001b[1;32m    607\u001b[0m \u001b[0;34m\u001b[0m\u001b[0m\n",
      "\u001b[0;32m~/anaconda3/envs/dscm/lib/python3.7/site-packages/pandas/io/parsers.py\u001b[0m in \u001b[0;36m_read\u001b[0;34m(filepath_or_buffer, kwds)\u001b[0m\n\u001b[1;32m    455\u001b[0m \u001b[0;34m\u001b[0m\u001b[0m\n\u001b[1;32m    456\u001b[0m     \u001b[0;31m# Create the parser.\u001b[0m\u001b[0;34m\u001b[0m\u001b[0;34m\u001b[0m\u001b[0;34m\u001b[0m\u001b[0m\n\u001b[0;32m--> 457\u001b[0;31m     \u001b[0mparser\u001b[0m \u001b[0;34m=\u001b[0m \u001b[0mTextFileReader\u001b[0m\u001b[0;34m(\u001b[0m\u001b[0mfilepath_or_buffer\u001b[0m\u001b[0;34m,\u001b[0m \u001b[0;34m**\u001b[0m\u001b[0mkwds\u001b[0m\u001b[0;34m)\u001b[0m\u001b[0;34m\u001b[0m\u001b[0;34m\u001b[0m\u001b[0m\n\u001b[0m\u001b[1;32m    458\u001b[0m \u001b[0;34m\u001b[0m\u001b[0m\n\u001b[1;32m    459\u001b[0m     \u001b[0;32mif\u001b[0m \u001b[0mchunksize\u001b[0m \u001b[0;32mor\u001b[0m \u001b[0miterator\u001b[0m\u001b[0;34m:\u001b[0m\u001b[0;34m\u001b[0m\u001b[0;34m\u001b[0m\u001b[0m\n",
      "\u001b[0;32m~/anaconda3/envs/dscm/lib/python3.7/site-packages/pandas/io/parsers.py\u001b[0m in \u001b[0;36m__init__\u001b[0;34m(self, f, engine, **kwds)\u001b[0m\n\u001b[1;32m    812\u001b[0m             \u001b[0mself\u001b[0m\u001b[0;34m.\u001b[0m\u001b[0moptions\u001b[0m\u001b[0;34m[\u001b[0m\u001b[0;34m\"has_index_names\"\u001b[0m\u001b[0;34m]\u001b[0m \u001b[0;34m=\u001b[0m \u001b[0mkwds\u001b[0m\u001b[0;34m[\u001b[0m\u001b[0;34m\"has_index_names\"\u001b[0m\u001b[0;34m]\u001b[0m\u001b[0;34m\u001b[0m\u001b[0;34m\u001b[0m\u001b[0m\n\u001b[1;32m    813\u001b[0m \u001b[0;34m\u001b[0m\u001b[0m\n\u001b[0;32m--> 814\u001b[0;31m         \u001b[0mself\u001b[0m\u001b[0;34m.\u001b[0m\u001b[0m_engine\u001b[0m \u001b[0;34m=\u001b[0m \u001b[0mself\u001b[0m\u001b[0;34m.\u001b[0m\u001b[0m_make_engine\u001b[0m\u001b[0;34m(\u001b[0m\u001b[0mself\u001b[0m\u001b[0;34m.\u001b[0m\u001b[0mengine\u001b[0m\u001b[0;34m)\u001b[0m\u001b[0;34m\u001b[0m\u001b[0;34m\u001b[0m\u001b[0m\n\u001b[0m\u001b[1;32m    815\u001b[0m \u001b[0;34m\u001b[0m\u001b[0m\n\u001b[1;32m    816\u001b[0m     \u001b[0;32mdef\u001b[0m \u001b[0mclose\u001b[0m\u001b[0;34m(\u001b[0m\u001b[0mself\u001b[0m\u001b[0;34m)\u001b[0m\u001b[0;34m:\u001b[0m\u001b[0;34m\u001b[0m\u001b[0;34m\u001b[0m\u001b[0m\n",
      "\u001b[0;32m~/anaconda3/envs/dscm/lib/python3.7/site-packages/pandas/io/parsers.py\u001b[0m in \u001b[0;36m_make_engine\u001b[0;34m(self, engine)\u001b[0m\n\u001b[1;32m   1043\u001b[0m             )\n\u001b[1;32m   1044\u001b[0m         \u001b[0;31m# error: Too many arguments for \"ParserBase\"\u001b[0m\u001b[0;34m\u001b[0m\u001b[0;34m\u001b[0m\u001b[0;34m\u001b[0m\u001b[0m\n\u001b[0;32m-> 1045\u001b[0;31m         \u001b[0;32mreturn\u001b[0m \u001b[0mmapping\u001b[0m\u001b[0;34m[\u001b[0m\u001b[0mengine\u001b[0m\u001b[0;34m]\u001b[0m\u001b[0;34m(\u001b[0m\u001b[0mself\u001b[0m\u001b[0;34m.\u001b[0m\u001b[0mf\u001b[0m\u001b[0;34m,\u001b[0m \u001b[0;34m**\u001b[0m\u001b[0mself\u001b[0m\u001b[0;34m.\u001b[0m\u001b[0moptions\u001b[0m\u001b[0;34m)\u001b[0m  \u001b[0;31m# type: ignore[call-arg]\u001b[0m\u001b[0;34m\u001b[0m\u001b[0;34m\u001b[0m\u001b[0m\n\u001b[0m\u001b[1;32m   1046\u001b[0m \u001b[0;34m\u001b[0m\u001b[0m\n\u001b[1;32m   1047\u001b[0m     \u001b[0;32mdef\u001b[0m \u001b[0m_failover_to_python\u001b[0m\u001b[0;34m(\u001b[0m\u001b[0mself\u001b[0m\u001b[0;34m)\u001b[0m\u001b[0;34m:\u001b[0m\u001b[0;34m\u001b[0m\u001b[0;34m\u001b[0m\u001b[0m\n",
      "\u001b[0;32m~/anaconda3/envs/dscm/lib/python3.7/site-packages/pandas/io/parsers.py\u001b[0m in \u001b[0;36m__init__\u001b[0;34m(self, src, **kwds)\u001b[0m\n\u001b[1;32m   1860\u001b[0m \u001b[0;34m\u001b[0m\u001b[0m\n\u001b[1;32m   1861\u001b[0m         \u001b[0;31m# open handles\u001b[0m\u001b[0;34m\u001b[0m\u001b[0;34m\u001b[0m\u001b[0;34m\u001b[0m\u001b[0m\n\u001b[0;32m-> 1862\u001b[0;31m         \u001b[0mself\u001b[0m\u001b[0;34m.\u001b[0m\u001b[0m_open_handles\u001b[0m\u001b[0;34m(\u001b[0m\u001b[0msrc\u001b[0m\u001b[0;34m,\u001b[0m \u001b[0mkwds\u001b[0m\u001b[0;34m)\u001b[0m\u001b[0;34m\u001b[0m\u001b[0;34m\u001b[0m\u001b[0m\n\u001b[0m\u001b[1;32m   1863\u001b[0m         \u001b[0;32massert\u001b[0m \u001b[0mself\u001b[0m\u001b[0;34m.\u001b[0m\u001b[0mhandles\u001b[0m \u001b[0;32mis\u001b[0m \u001b[0;32mnot\u001b[0m \u001b[0;32mNone\u001b[0m\u001b[0;34m\u001b[0m\u001b[0;34m\u001b[0m\u001b[0m\n\u001b[1;32m   1864\u001b[0m         \u001b[0;32mfor\u001b[0m \u001b[0mkey\u001b[0m \u001b[0;32min\u001b[0m \u001b[0;34m(\u001b[0m\u001b[0;34m\"storage_options\"\u001b[0m\u001b[0;34m,\u001b[0m \u001b[0;34m\"encoding\"\u001b[0m\u001b[0;34m,\u001b[0m \u001b[0;34m\"memory_map\"\u001b[0m\u001b[0;34m,\u001b[0m \u001b[0;34m\"compression\"\u001b[0m\u001b[0;34m)\u001b[0m\u001b[0;34m:\u001b[0m\u001b[0;34m\u001b[0m\u001b[0;34m\u001b[0m\u001b[0m\n",
      "\u001b[0;32m~/anaconda3/envs/dscm/lib/python3.7/site-packages/pandas/io/parsers.py\u001b[0m in \u001b[0;36m_open_handles\u001b[0;34m(self, src, kwds)\u001b[0m\n\u001b[1;32m   1361\u001b[0m             \u001b[0mcompression\u001b[0m\u001b[0;34m=\u001b[0m\u001b[0mkwds\u001b[0m\u001b[0;34m.\u001b[0m\u001b[0mget\u001b[0m\u001b[0;34m(\u001b[0m\u001b[0;34m\"compression\"\u001b[0m\u001b[0;34m,\u001b[0m \u001b[0;32mNone\u001b[0m\u001b[0;34m)\u001b[0m\u001b[0;34m,\u001b[0m\u001b[0;34m\u001b[0m\u001b[0;34m\u001b[0m\u001b[0m\n\u001b[1;32m   1362\u001b[0m             \u001b[0mmemory_map\u001b[0m\u001b[0;34m=\u001b[0m\u001b[0mkwds\u001b[0m\u001b[0;34m.\u001b[0m\u001b[0mget\u001b[0m\u001b[0;34m(\u001b[0m\u001b[0;34m\"memory_map\"\u001b[0m\u001b[0;34m,\u001b[0m \u001b[0;32mFalse\u001b[0m\u001b[0;34m)\u001b[0m\u001b[0;34m,\u001b[0m\u001b[0;34m\u001b[0m\u001b[0;34m\u001b[0m\u001b[0m\n\u001b[0;32m-> 1363\u001b[0;31m             \u001b[0mstorage_options\u001b[0m\u001b[0;34m=\u001b[0m\u001b[0mkwds\u001b[0m\u001b[0;34m.\u001b[0m\u001b[0mget\u001b[0m\u001b[0;34m(\u001b[0m\u001b[0;34m\"storage_options\"\u001b[0m\u001b[0;34m,\u001b[0m \u001b[0;32mNone\u001b[0m\u001b[0;34m)\u001b[0m\u001b[0;34m,\u001b[0m\u001b[0;34m\u001b[0m\u001b[0;34m\u001b[0m\u001b[0m\n\u001b[0m\u001b[1;32m   1364\u001b[0m         )\n\u001b[1;32m   1365\u001b[0m \u001b[0;34m\u001b[0m\u001b[0m\n",
      "\u001b[0;32m~/anaconda3/envs/dscm/lib/python3.7/site-packages/pandas/io/common.py\u001b[0m in \u001b[0;36mget_handle\u001b[0;34m(path_or_buf, mode, encoding, compression, memory_map, is_text, errors, storage_options)\u001b[0m\n\u001b[1;32m    642\u001b[0m                 \u001b[0mencoding\u001b[0m\u001b[0;34m=\u001b[0m\u001b[0mioargs\u001b[0m\u001b[0;34m.\u001b[0m\u001b[0mencoding\u001b[0m\u001b[0;34m,\u001b[0m\u001b[0;34m\u001b[0m\u001b[0;34m\u001b[0m\u001b[0m\n\u001b[1;32m    643\u001b[0m                 \u001b[0merrors\u001b[0m\u001b[0;34m=\u001b[0m\u001b[0merrors\u001b[0m\u001b[0;34m,\u001b[0m\u001b[0;34m\u001b[0m\u001b[0;34m\u001b[0m\u001b[0m\n\u001b[0;32m--> 644\u001b[0;31m                 \u001b[0mnewline\u001b[0m\u001b[0;34m=\u001b[0m\u001b[0;34m\"\"\u001b[0m\u001b[0;34m,\u001b[0m\u001b[0;34m\u001b[0m\u001b[0;34m\u001b[0m\u001b[0m\n\u001b[0m\u001b[1;32m    645\u001b[0m             )\n\u001b[1;32m    646\u001b[0m         \u001b[0;32melse\u001b[0m\u001b[0;34m:\u001b[0m\u001b[0;34m\u001b[0m\u001b[0;34m\u001b[0m\u001b[0m\n",
      "\u001b[0;31mFileNotFoundError\u001b[0m: [Errno 2] No such file or directory: '../../../../assets/data/ukbb//examples.csv'"
     ]
    }
   ],
   "source": [
    "%matplotlib inline\n",
    "\n",
    "from plotting_helper import plot_gen_intervention_range"
   ]
  },
  {
   "cell_type": "markdown",
   "metadata": {},
   "source": [
    "# Plotting"
   ]
  },
  {
   "cell_type": "code",
   "execution_count": 2,
   "metadata": {
    "scrolled": false
   },
   "outputs": [
    {
     "ename": "NameError",
     "evalue": "name 'plot_gen_intervention_range' is not defined",
     "output_type": "error",
     "traceback": [
      "\u001b[0;31m---------------------------------------------------------------------------\u001b[0m",
      "\u001b[0;31mNameError\u001b[0m                                 Traceback (most recent call last)",
      "\u001b[0;32m/tmp/ipykernel_3595246/2450907484.py\u001b[0m in \u001b[0;36m<module>\u001b[0;34m\u001b[0m\n\u001b[1;32m     12\u001b[0m ]\n\u001b[1;32m     13\u001b[0m \u001b[0;34m\u001b[0m\u001b[0m\n\u001b[0;32m---> 14\u001b[0;31m \u001b[0mplot_gen_intervention_range\u001b[0m\u001b[0;34m(\u001b[0m\u001b[0mmodel_name\u001b[0m\u001b[0;34m,\u001b[0m \u001b[0minterventions\u001b[0m\u001b[0;34m,\u001b[0m \u001b[0midx\u001b[0m\u001b[0;34m,\u001b[0m \u001b[0mnormalise_all\u001b[0m\u001b[0;34m=\u001b[0m\u001b[0;32mTrue\u001b[0m\u001b[0;34m,\u001b[0m \u001b[0mnum_samples\u001b[0m\u001b[0;34m=\u001b[0m\u001b[0;36m32\u001b[0m\u001b[0;34m)\u001b[0m\u001b[0;34m\u001b[0m\u001b[0;34m\u001b[0m\u001b[0m\n\u001b[0m",
      "\u001b[0;31mNameError\u001b[0m: name 'plot_gen_intervention_range' is not defined"
     ]
    }
   ],
   "source": [
    "idx = 0\n",
    "model_name = 'ConditionalVISEM'\n",
    "\n",
    "interventions = [\n",
    "    {'sex': 1.},\n",
    "    {'age': 40.},\n",
    "    {'age': 80.},\n",
    "    {'brain_vol': 800000.},\n",
    "    {'brain_vol': 1600000.},\n",
    "    {'ventricle_vol': 11000.},\n",
    "    {'ventricle_vol': 110000.},\n",
    "]\n",
    "\n",
    "plot_gen_intervention_range(model_name, interventions, idx, normalise_all=True, num_samples=32)"
   ]
  },
  {
   "cell_type": "markdown",
   "metadata": {},
   "source": [
    "# Interactive Plotting"
   ]
  },
  {
   "cell_type": "code",
   "execution_count": 3,
   "metadata": {},
   "outputs": [
    {
     "data": {
      "application/vnd.jupyter.widget-view+json": {
       "model_id": "f8a04ef9ce58484c92cc7f7abe6984f3",
       "version_major": 2,
       "version_minor": 0
      },
      "text/plain": [
       "VBox(children=(IntSlider(value=0, description='Image #', max=4), VBox(children=(HBox(children=(FloatSlider(val…"
      ]
     },
     "metadata": {},
     "output_type": "display_data"
    }
   ],
   "source": [
    "interactive_plot(model_name)"
   ]
  }
 ],
 "metadata": {
  "kernelspec": {
   "display_name": "dscm",
   "language": "python",
   "name": "python3"
  },
  "language_info": {
   "codemirror_mode": {
    "name": "ipython",
    "version": 3
   },
   "file_extension": ".py",
   "mimetype": "text/x-python",
   "name": "python",
   "nbconvert_exporter": "python",
   "pygments_lexer": "ipython3",
   "version": "3.7.2"
  },
  "vscode": {
   "interpreter": {
    "hash": "87bd080f68c63ad3a608d74fd8bf844c2778fbd850b74ae3dae5e97dce5ac8c9"
   }
  },
  "widgets": {
   "application/vnd.jupyter.widget-state+json": {
    "state": {
     "0090dda3e507410186fc3447324a60cc": {
      "model_module": "@jupyter-widgets/base",
      "model_module_version": "1.1.0",
      "model_name": "LayoutModel",
      "state": {}
     },
     "0121bbab40d04ee5aa35437a1ecd797b": {
      "model_module": "@jupyter-widgets/base",
      "model_module_version": "1.1.0",
      "model_name": "LayoutModel",
      "state": {}
     },
     "01883725a17e4d0b9d0d6256c3db4a2b": {
      "model_module": "@jupyter-widgets/base",
      "model_module_version": "1.1.0",
      "model_name": "LayoutModel",
      "state": {}
     },
     "01dd9ce496d54f63b27d6a18e8bb1104": {
      "model_module": "@jupyter-widgets/controls",
      "model_module_version": "1.4.0",
      "model_name": "DescriptionStyleModel",
      "state": {
       "description_width": ""
      }
     },
     "02a55868c2064170bba8f4ce9e426ea8": {
      "model_module": "@jupyter-widgets/controls",
      "model_module_version": "1.4.0",
      "model_name": "SliderStyleModel",
      "state": {
       "description_width": "initial"
      }
     },
     "02b584312cac402a9d4faacb9cd9b674": {
      "model_module": "@jupyter-widgets/controls",
      "model_module_version": "1.4.0",
      "model_name": "CheckboxModel",
      "state": {
       "description": "do(ventricle_volume)",
       "disabled": false,
       "layout": "IPY_MODEL_285199b2f0564c64a6a011611dc72ff5",
       "style": "IPY_MODEL_a2047a9f175144fda6f7b5230f6e52b9",
       "value": false
      }
     },
     "035fd6285af14a2a9a8fb78248635ec6": {
      "model_module": "@jupyter-widgets/controls",
      "model_module_version": "1.4.0",
      "model_name": "CheckboxModel",
      "state": {
       "description": "do(brain_volume)",
       "disabled": false,
       "layout": "IPY_MODEL_15e625e6fc7a4c08a306d6614900033d",
       "style": "IPY_MODEL_4fb459dc6430467090a121a726370449",
       "value": false
      }
     },
     "04734fc8f9964fb487199ffbb1972db5": {
      "model_module": "@jupyter-widgets/controls",
      "model_module_version": "1.4.0",
      "model_name": "SliderStyleModel",
      "state": {
       "description_width": ""
      }
     },
     "04cd84ac50644e41b9fd67f780ea0467": {
      "model_module": "@jupyter-widgets/controls",
      "model_module_version": "1.4.0",
      "model_name": "DescriptionStyleModel",
      "state": {
       "description_width": ""
      }
     },
     "054b713cf11048e998e9b086e6a05576": {
      "model_module": "@jupyter-widgets/base",
      "model_module_version": "1.1.0",
      "model_name": "LayoutModel",
      "state": {}
     },
     "05866f00165e4a4c9b48cc19c1d84188": {
      "model_module": "@jupyter-widgets/controls",
      "model_module_version": "1.4.0",
      "model_name": "DescriptionStyleModel",
      "state": {
       "description_width": ""
      }
     },
     "06c0a953091a4d728996e199244699bd": {
      "model_module": "@jupyter-widgets/controls",
      "model_module_version": "1.4.0",
      "model_name": "CheckboxModel",
      "state": {
       "description": "do_ventricle_volume",
       "disabled": false,
       "layout": "IPY_MODEL_8b35b008bdc646e58e3910ffe4b1198c",
       "style": "IPY_MODEL_18e6ba1684834c21b0f83449728ea518",
       "value": false
      }
     },
     "06f570af9a7e4611860ffed14638bc1b": {
      "model_module": "@jupyter-widgets/controls",
      "model_module_version": "1.4.0",
      "model_name": "HBoxModel",
      "state": {
       "children": [
        "IPY_MODEL_7c2a3ba9547d4166acdecc5dd0444f8e",
        "IPY_MODEL_20c3cf9f8daa46078d73818bbc6c5aa0"
       ],
       "layout": "IPY_MODEL_9001d5038cbf40cd9f17ed2fb3ca5dc9"
      }
     },
     "0744e415213444d89d3458b6c6031192": {
      "model_module": "@jupyter-widgets/controls",
      "model_module_version": "1.4.0",
      "model_name": "FloatSliderModel",
      "state": {
       "continuous_update": false,
       "description": "Ventricle V. (ml):",
       "layout": "IPY_MODEL_99e937d0380b4d74b52a9f983e542bf8",
       "max": 110,
       "min": 11,
       "style": "IPY_MODEL_563fc0691511426388c41b48574ddc82",
       "value": 11
      }
     },
     "0783e50734fe4bca9fdba7d1255041fd": {
      "model_module": "@jupyter-widgets/controls",
      "model_module_version": "1.4.0",
      "model_name": "DescriptionStyleModel",
      "state": {
       "description_width": ""
      }
     },
     "08b02ed861a343eca5b7faabfd42dbe6": {
      "model_module": "@jupyter-widgets/base",
      "model_module_version": "1.1.0",
      "model_name": "LayoutModel",
      "state": {}
     },
     "09441ea507f44d89a9836b6ef8319757": {
      "model_module": "@jupyter-widgets/base",
      "model_module_version": "1.1.0",
      "model_name": "LayoutModel",
      "state": {}
     },
     "0aa7576c8d8c4173b530242831024f77": {
      "model_module": "@jupyter-widgets/base",
      "model_module_version": "1.1.0",
      "model_name": "LayoutModel",
      "state": {}
     },
     "0b79ed799e1145189530a6cf4685f7dc": {
      "model_module": "@jupyter-widgets/controls",
      "model_module_version": "1.4.0",
      "model_name": "IntSliderModel",
      "state": {
       "description": "Image #",
       "layout": "IPY_MODEL_fd8671fc149b40a1b412f8cbcbc07370",
       "max": 4,
       "style": "IPY_MODEL_6f66f808296e4832ba624e4d329ba15f"
      }
     },
     "0e89e853f9944ebf8c4d080d29184547": {
      "model_module": "@jupyter-widgets/controls",
      "model_module_version": "1.4.0",
      "model_name": "IntSliderModel",
      "state": {
       "description": "Image #",
       "layout": "IPY_MODEL_01883725a17e4d0b9d0d6256c3db4a2b",
       "max": 4,
       "style": "IPY_MODEL_9f26aa8390ec4c88ae1e8e8789756825"
      }
     },
     "10bde0e7b1aa4057ba0433001b58301e": {
      "model_module": "@jupyter-widgets/controls",
      "model_module_version": "1.4.0",
      "model_name": "DescriptionStyleModel",
      "state": {
       "description_width": ""
      }
     },
     "1116b8b4ba3b4406be0d0f6c84a98eac": {
      "model_module": "@jupyter-widgets/controls",
      "model_module_version": "1.4.0",
      "model_name": "FloatSliderModel",
      "state": {
       "continuous_update": false,
       "description": "Ventricle Volume (ml):",
       "layout": "IPY_MODEL_793301ee1fee493a907dff52e6c8dfa3",
       "max": 110,
       "min": 11,
       "style": "IPY_MODEL_f5b18ee4ad7a4c74ad2db11683128ce1",
       "value": 11
      }
     },
     "129e9a8a240b4cb3a4f0983727aae8f6": {
      "model_module": "@jupyter-widgets/controls",
      "model_module_version": "1.4.0",
      "model_name": "VBoxModel",
      "state": {
       "children": [
        "IPY_MODEL_34386a433eeb46e1bccd5e268de9bf5a",
        "IPY_MODEL_7bdef9ca5d324d12852cc418b879ec9d",
        "IPY_MODEL_65ba3956c7774947ada0116e6cf4b83d"
       ],
       "layout": "IPY_MODEL_09441ea507f44d89a9836b6ef8319757"
      }
     },
     "12a0da2d06194ff7b05c931d1cba315a": {
      "model_module": "@jupyter-widgets/base",
      "model_module_version": "1.1.0",
      "model_name": "LayoutModel",
      "state": {}
     },
     "14510bd6fe02477386bf20cfbff186d6": {
      "model_module": "@jupyter-widgets/base",
      "model_module_version": "1.1.0",
      "model_name": "LayoutModel",
      "state": {}
     },
     "1494648374404506955ccf422d28d36b": {
      "model_module": "@jupyter-widgets/base",
      "model_module_version": "1.1.0",
      "model_name": "LayoutModel",
      "state": {}
     },
     "1583b428f4144c2981df410d9f36b816": {
      "model_module": "@jupyter-widgets/controls",
      "model_module_version": "1.4.0",
      "model_name": "FloatSliderModel",
      "state": {
       "continuous_update": false,
       "description": "Age",
       "layout": "IPY_MODEL_9a38e683ec8349048573c34b093ebac5",
       "max": 120,
       "min": 30,
       "step": 0.1,
       "style": "IPY_MODEL_fbef23b5f45a408a8dbff1ead873313f",
       "value": 30
      }
     },
     "15e625e6fc7a4c08a306d6614900033d": {
      "model_module": "@jupyter-widgets/base",
      "model_module_version": "1.1.0",
      "model_name": "LayoutModel",
      "state": {}
     },
     "18e6ba1684834c21b0f83449728ea518": {
      "model_module": "@jupyter-widgets/controls",
      "model_module_version": "1.4.0",
      "model_name": "DescriptionStyleModel",
      "state": {
       "description_width": ""
      }
     },
     "195ef94355e4436b87c53387a79b2b15": {
      "model_module": "@jupyter-widgets/controls",
      "model_module_version": "1.4.0",
      "model_name": "HBoxModel",
      "state": {
       "children": [
        "IPY_MODEL_61a165ef9a0044cb8adfad1d0eb973eb",
        "IPY_MODEL_ca7444206176430e9012dcce0614c379"
       ],
       "layout": "IPY_MODEL_054b713cf11048e998e9b086e6a05576"
      }
     },
     "1a05d9dc73b24dd3bb858f2e4170c314": {
      "model_module": "@jupyter-widgets/controls",
      "model_module_version": "1.4.0",
      "model_name": "DescriptionStyleModel",
      "state": {
       "description_width": ""
      }
     },
     "1a1fb7984bac41c2b2cd6858d603ed20": {
      "model_module": "@jupyter-widgets/controls",
      "model_module_version": "1.4.0",
      "model_name": "FloatSliderModel",
      "state": {
       "continuous_update": false,
       "description": "Brain Volume (ml):",
       "layout": "IPY_MODEL_32410bbb917f42d580b76388c5e5702f",
       "max": 1600,
       "min": 800,
       "step": 10,
       "style": "IPY_MODEL_02a55868c2064170bba8f4ce9e426ea8",
       "value": 800
      }
     },
     "1a2b042153fa43a3b0507213cfee8a4d": {
      "model_module": "@jupyter-widgets/controls",
      "model_module_version": "1.4.0",
      "model_name": "DescriptionStyleModel",
      "state": {
       "description_width": ""
      }
     },
     "1c045fed3eb84d6eb8e108f165a674c6": {
      "model_module": "@jupyter-widgets/controls",
      "model_module_version": "1.4.0",
      "model_name": "VBoxModel",
      "state": {
       "children": [
        "IPY_MODEL_93bec58e843f4dd9b6048046e5aec38f",
        "IPY_MODEL_7b93e9d9c90e4d78b37df9b31129b442",
        "IPY_MODEL_6281e444396c4552bfeddf30e78fcce9",
        "IPY_MODEL_06f570af9a7e4611860ffed14638bc1b"
       ],
       "layout": "IPY_MODEL_513374e0623d4d5a8655e68f44607f14"
      }
     },
     "1e35641a88994572a0d8fc18c5bd6cca": {
      "model_module": "@jupyter-widgets/base",
      "model_module_version": "1.1.0",
      "model_name": "LayoutModel",
      "state": {}
     },
     "20c3cf9f8daa46078d73818bbc6c5aa0": {
      "model_module": "@jupyter-widgets/controls",
      "model_module_version": "1.4.0",
      "model_name": "CheckboxModel",
      "state": {
       "description": "do(ventricle_volume)",
       "disabled": false,
       "layout": "IPY_MODEL_9e4d0848bcee46778f6b3e0aff927bd0",
       "style": "IPY_MODEL_10bde0e7b1aa4057ba0433001b58301e",
       "value": false
      }
     },
     "215d40d489b746098971aa5a8f687958": {
      "model_module": "@jupyter-widgets/base",
      "model_module_version": "1.1.0",
      "model_name": "LayoutModel",
      "state": {}
     },
     "239dc84b41a34000bdc17022d45d1585": {
      "model_module": "@jupyter-widgets/controls",
      "model_module_version": "1.4.0",
      "model_name": "FloatSliderModel",
      "state": {
       "continuous_update": false,
       "description": "Age",
       "layout": "IPY_MODEL_d0b91348bd93425f9b1e6576bf539157",
       "max": 120,
       "min": 30,
       "step": 0.1,
       "style": "IPY_MODEL_5f111a24517748799651af5d5a72da9c",
       "value": 30
      }
     },
     "23afe84b6fc54aa18577c44f13f35854": {
      "model_module": "@jupyter-widgets/controls",
      "model_module_version": "1.4.0",
      "model_name": "DescriptionStyleModel",
      "state": {
       "description_width": ""
      }
     },
     "2442c5eba20c4663acae69d972330320": {
      "model_module": "@jupyter-widgets/controls",
      "model_module_version": "1.4.0",
      "model_name": "DescriptionStyleModel",
      "state": {
       "description_width": ""
      }
     },
     "24ae8b299c744b83b4e3a68177f5ee3f": {
      "model_module": "@jupyter-widgets/controls",
      "model_module_version": "1.4.0",
      "model_name": "SliderStyleModel",
      "state": {
       "description_width": ""
      }
     },
     "24d48486642f469e8df7c316b7068719": {
      "model_module": "@jupyter-widgets/controls",
      "model_module_version": "1.4.0",
      "model_name": "DropdownModel",
      "state": {
       "_options_labels": [
        "female",
        "male"
       ],
       "description": "sex",
       "index": 0,
       "layout": "IPY_MODEL_62aa8823dd2040bcad47c12520f1758a",
       "style": "IPY_MODEL_76788c53c622469ebe4f3b04a5c11eff"
      }
     },
     "24f0d925225d4feb89fc32b479372a82": {
      "model_module": "@jupyter-widgets/controls",
      "model_module_version": "1.4.0",
      "model_name": "DescriptionStyleModel",
      "state": {
       "description_width": ""
      }
     },
     "25ccaf2e563d4f2a9dd821ee39488616": {
      "model_module": "@jupyter-widgets/controls",
      "model_module_version": "1.4.0",
      "model_name": "DescriptionStyleModel",
      "state": {
       "description_width": ""
      }
     },
     "25fc88e3bb914b5596ffb7d8e8cc73fd": {
      "model_module": "@jupyter-widgets/base",
      "model_module_version": "1.1.0",
      "model_name": "LayoutModel",
      "state": {}
     },
     "260a648caf0f4706a4c3f2b1e26ccd44": {
      "model_module": "@jupyter-widgets/controls",
      "model_module_version": "1.4.0",
      "model_name": "HBoxModel",
      "state": {
       "children": [
        "IPY_MODEL_c7c7aab003e4411dafb67382d700a152",
        "IPY_MODEL_502eff99b0754a13b3a342d1606b80aa"
       ],
       "layout": "IPY_MODEL_5896a400fea345fda8e7a1e973c48bbb"
      }
     },
     "26b55c98244e4bc8b431b1d3ebe2c9af": {
      "model_module": "@jupyter-widgets/controls",
      "model_module_version": "1.4.0",
      "model_name": "SliderStyleModel",
      "state": {
       "description_width": ""
      }
     },
     "26ca920aa7524d26967c61755d4ffca9": {
      "model_module": "@jupyter-widgets/controls",
      "model_module_version": "1.4.0",
      "model_name": "CheckboxModel",
      "state": {
       "description": "do(sex)",
       "disabled": false,
       "layout": "IPY_MODEL_12a0da2d06194ff7b05c931d1cba315a",
       "style": "IPY_MODEL_1a2b042153fa43a3b0507213cfee8a4d",
       "value": false
      }
     },
     "285199b2f0564c64a6a011611dc72ff5": {
      "model_module": "@jupyter-widgets/base",
      "model_module_version": "1.1.0",
      "model_name": "LayoutModel",
      "state": {}
     },
     "29485205de244d7389e920454cc2bbb5": {
      "model_module": "@jupyter-widgets/base",
      "model_module_version": "1.1.0",
      "model_name": "LayoutModel",
      "state": {}
     },
     "2a43916ad5cf47a8ba2d431857cf9f60": {
      "model_module": "@jupyter-widgets/base",
      "model_module_version": "1.1.0",
      "model_name": "LayoutModel",
      "state": {}
     },
     "2ab5312e3c434d22bfad1e681d81ff09": {
      "model_module": "@jupyter-widgets/controls",
      "model_module_version": "1.4.0",
      "model_name": "VBoxModel",
      "state": {
       "children": [
        "IPY_MODEL_f33366c7399a4aaebdabda733137d1ab",
        "IPY_MODEL_e63386a16e6d4b63928d4629541a449d",
        "IPY_MODEL_e42d05cdb84247e9aaf8a0135030afa7"
       ],
       "layout": "IPY_MODEL_930337820abd4d95b06ad1f4c3176295"
      }
     },
     "2c811bc760bb4152b5976ac54620b1dd": {
      "model_module": "@jupyter-widgets/base",
      "model_module_version": "1.1.0",
      "model_name": "LayoutModel",
      "state": {}
     },
     "2d2b6e70cc8e41169328c8660bac4046": {
      "model_module": "@jupyter-widgets/base",
      "model_module_version": "1.1.0",
      "model_name": "LayoutModel",
      "state": {}
     },
     "2ee6b6aa2df44027a49aeea0cae4c2fa": {
      "model_module": "@jupyter-widgets/base",
      "model_module_version": "1.1.0",
      "model_name": "LayoutModel",
      "state": {}
     },
     "2fc82394abd84d62890298d694a87b3d": {
      "model_module": "@jupyter-widgets/base",
      "model_module_version": "1.1.0",
      "model_name": "LayoutModel",
      "state": {}
     },
     "310cf32479ba422fa70d645f94881af2": {
      "model_module": "@jupyter-widgets/base",
      "model_module_version": "1.1.0",
      "model_name": "LayoutModel",
      "state": {}
     },
     "3213d6c222f6419abbbe66e31fb5856a": {
      "model_module": "@jupyter-widgets/controls",
      "model_module_version": "1.4.0",
      "model_name": "CheckboxModel",
      "state": {
       "description": "do_sex",
       "disabled": false,
       "layout": "IPY_MODEL_709f965b08094e62ab8f88428f3cc1b7",
       "style": "IPY_MODEL_4b25600a1ff148d4966cf7d967fea5c4",
       "value": false
      }
     },
     "32410bbb917f42d580b76388c5e5702f": {
      "model_module": "@jupyter-widgets/base",
      "model_module_version": "1.1.0",
      "model_name": "LayoutModel",
      "state": {}
     },
     "3312fda9ad424958bfacbe6e92eb3cd4": {
      "model_module": "@jupyter-widgets/base",
      "model_module_version": "1.1.0",
      "model_name": "LayoutModel",
      "state": {}
     },
     "335d89ba2c444271aee2ecf96ee98445": {
      "model_module": "@jupyter-widgets/base",
      "model_module_version": "1.1.0",
      "model_name": "LayoutModel",
      "state": {}
     },
     "34386a433eeb46e1bccd5e268de9bf5a": {
      "model_module": "@jupyter-widgets/controls",
      "model_module_version": "1.4.0",
      "model_name": "IntSliderModel",
      "state": {
       "description": "image",
       "layout": "IPY_MODEL_ff895edcce67407a975d97efa9df19d4",
       "max": 4,
       "style": "IPY_MODEL_5afac3a3aa1c46c6b28fcfb17611e9fe",
       "value": 2
      }
     },
     "355a6299ecb64ad983ee589861afca27": {
      "model_module": "@jupyter-widgets/base",
      "model_module_version": "1.1.0",
      "model_name": "LayoutModel",
      "state": {}
     },
     "367015b7ba174c5f945c84de36aee40e": {
      "model_module": "@jupyter-widgets/base",
      "model_module_version": "1.1.0",
      "model_name": "LayoutModel",
      "state": {}
     },
     "372ef8a40dd5497eb307a86bf2aab409": {
      "model_module": "@jupyter-widgets/controls",
      "model_module_version": "1.4.0",
      "model_name": "CheckboxModel",
      "state": {
       "description": "do(age)",
       "disabled": false,
       "layout": "IPY_MODEL_38b2d086dab84607975bb12732008658",
       "style": "IPY_MODEL_2442c5eba20c4663acae69d972330320",
       "value": false
      }
     },
     "3792d950a6cd4375935f3692a657dd28": {
      "model_module": "@jupyter-widgets/controls",
      "model_module_version": "1.4.0",
      "model_name": "DescriptionStyleModel",
      "state": {
       "description_width": ""
      }
     },
     "38055906a2004075ba3506fa6a77266b": {
      "model_module": "@jupyter-widgets/controls",
      "model_module_version": "1.4.0",
      "model_name": "CheckboxModel",
      "state": {
       "description": "do(brain_volume)",
       "disabled": false,
       "layout": "IPY_MODEL_0090dda3e507410186fc3447324a60cc",
       "style": "IPY_MODEL_04cd84ac50644e41b9fd67f780ea0467",
       "value": false
      }
     },
     "38b2d086dab84607975bb12732008658": {
      "model_module": "@jupyter-widgets/base",
      "model_module_version": "1.1.0",
      "model_name": "LayoutModel",
      "state": {}
     },
     "396bff0db8ab497aa2704fd39be8c682": {
      "model_module": "@jupyter-widgets/base",
      "model_module_version": "1.1.0",
      "model_name": "LayoutModel",
      "state": {}
     },
     "39d800f30f9e4fadbad70cd29e5a06f6": {
      "model_module": "@jupyter-widgets/controls",
      "model_module_version": "1.4.0",
      "model_name": "CheckboxModel",
      "state": {
       "description": "do(sex)",
       "disabled": false,
       "layout": "IPY_MODEL_8b9df24ec3cf403695bf2fcd26d3b811",
       "style": "IPY_MODEL_b77f2c92692d45b5bafd13ad6d745c8a",
       "value": false
      }
     },
     "3a2db0adf4c24d67a570e7d3ed91cdf5": {
      "model_module": "@jupyter-widgets/controls",
      "model_module_version": "1.4.0",
      "model_name": "DropdownModel",
      "state": {
       "_options_labels": [
        "female",
        "male"
       ],
       "description": "Sex",
       "index": 0,
       "layout": "IPY_MODEL_215d40d489b746098971aa5a8f687958",
       "style": "IPY_MODEL_01dd9ce496d54f63b27d6a18e8bb1104"
      }
     },
     "3b8e8a5c58c448ce81f068c5b2c9b8f5": {
      "model_module": "@jupyter-widgets/base",
      "model_module_version": "1.1.0",
      "model_name": "LayoutModel",
      "state": {}
     },
     "3c1b7c24770042f9bd5c6f89c97552cd": {
      "model_module": "@jupyter-widgets/controls",
      "model_module_version": "1.4.0",
      "model_name": "DescriptionStyleModel",
      "state": {
       "description_width": ""
      }
     },
     "3f20442f70854744816bc5648a44284b": {
      "model_module": "@jupyter-widgets/base",
      "model_module_version": "1.1.0",
      "model_name": "LayoutModel",
      "state": {}
     },
     "404bd4da987d463e98b61bf961711034": {
      "model_module": "@jupyter-widgets/controls",
      "model_module_version": "1.4.0",
      "model_name": "CheckboxModel",
      "state": {
       "description": "do(age)",
       "disabled": false,
       "layout": "IPY_MODEL_91cad22da6e34b3181d82b585c69fd1f",
       "style": "IPY_MODEL_f3c3e3fe6e9a4e728d26718a2c8a5d0b",
       "value": false
      }
     },
     "40cff898b8ed4785be9bf0a4846fb3c2": {
      "model_module": "@jupyter-widgets/base",
      "model_module_version": "1.1.0",
      "model_name": "LayoutModel",
      "state": {}
     },
     "4139cd28e6dd44208affa4541ee6b3af": {
      "model_module": "@jupyter-widgets/controls",
      "model_module_version": "1.4.0",
      "model_name": "HBoxModel",
      "state": {
       "children": [
        "IPY_MODEL_3a2db0adf4c24d67a570e7d3ed91cdf5",
        "IPY_MODEL_5f2478313daa432cb63505eb946f1b25"
       ],
       "layout": "IPY_MODEL_fe0bf2bb48ba4e8581513579f1a7aa11"
      }
     },
     "41e25f4584ee4182a5e91a723c608042": {
      "model_module": "@jupyter-widgets/controls",
      "model_module_version": "1.4.0",
      "model_name": "CheckboxModel",
      "state": {
       "description": "do(sex)",
       "disabled": false,
       "layout": "IPY_MODEL_2ee6b6aa2df44027a49aeea0cae4c2fa",
       "style": "IPY_MODEL_dceb6d5f65c246ca800b697ea85b65e8",
       "value": false
      }
     },
     "41e4f87c0a5443c38a863b2dc233e4bb": {
      "model_module": "@jupyter-widgets/controls",
      "model_module_version": "1.4.0",
      "model_name": "VBoxModel",
      "state": {
       "_dom_classes": [
        "widget-interact"
       ],
       "children": [
        "IPY_MODEL_e9549bdf50ae4aaaa24ae59bee08de57",
        "IPY_MODEL_880f5ad33bff4d5590b9af00771de216",
        "IPY_MODEL_6467bfde4c74431c9a6043a6d6a098f1",
        "IPY_MODEL_c7c7aab003e4411dafb67382d700a152",
        "IPY_MODEL_86710c2fa6de4755b26a0aba3127fdeb",
        "IPY_MODEL_891d9394745c444c9ca089148d641a19",
        "IPY_MODEL_3213d6c222f6419abbbe66e31fb5856a",
        "IPY_MODEL_502eff99b0754a13b3a342d1606b80aa",
        "IPY_MODEL_06c0a953091a4d728996e199244699bd",
        "IPY_MODEL_4a60601d5611498c961f9d1ce3eeca9a"
       ],
       "layout": "IPY_MODEL_d5248871bad4484cb566fe579fb8db18"
      }
     },
     "43f48d3460bb463982c68eb756d14d95": {
      "model_module": "@jupyter-widgets/base",
      "model_module_version": "1.1.0",
      "model_name": "LayoutModel",
      "state": {}
     },
     "445f8181ca084cf080cfc71ec3d2a174": {
      "model_module": "@jupyter-widgets/base",
      "model_module_version": "1.1.0",
      "model_name": "LayoutModel",
      "state": {}
     },
     "446dc40156344b03b96a6e4fcb31ccda": {
      "model_module": "@jupyter-widgets/controls",
      "model_module_version": "1.4.0",
      "model_name": "HBoxModel",
      "state": {
       "children": [
        "IPY_MODEL_8935cb69f1e84c52972d27265cd9bc6b",
        "IPY_MODEL_91f7baa481f2470b9dd030b64a5826e5"
       ],
       "layout": "IPY_MODEL_4a4a1ea0be354d3cb5a18dfcf8991a3c"
      }
     },
     "47019cc51a8d4ec889bb0e262ea00812": {
      "model_module": "@jupyter-widgets/base",
      "model_module_version": "1.1.0",
      "model_name": "LayoutModel",
      "state": {}
     },
     "483f2d1ebec241309af94bcba099ea94": {
      "model_module": "@jupyter-widgets/base",
      "model_module_version": "1.1.0",
      "model_name": "LayoutModel",
      "state": {}
     },
     "4a4a1ea0be354d3cb5a18dfcf8991a3c": {
      "model_module": "@jupyter-widgets/base",
      "model_module_version": "1.1.0",
      "model_name": "LayoutModel",
      "state": {}
     },
     "4a4c906331c5478e98e0594a430dd1aa": {
      "model_module": "@jupyter-widgets/controls",
      "model_module_version": "1.4.0",
      "model_name": "IntSliderModel",
      "state": {
       "description": "Image #",
       "layout": "IPY_MODEL_3f20442f70854744816bc5648a44284b",
       "max": 4,
       "style": "IPY_MODEL_58ceb8bfe9574bbca20b807dc57e6314"
      }
     },
     "4a60601d5611498c961f9d1ce3eeca9a": {
      "model_module": "@jupyter-widgets/output",
      "model_module_version": "1.0.0",
      "model_name": "OutputModel",
      "state": {
       "layout": "IPY_MODEL_335d89ba2c444271aee2ecf96ee98445",
       "outputs": [
        {
         "data": {
          "image/png": "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\n",
          "text/plain": "<Figure size 720x180 with 4 Axes>"
         },
         "metadata": {},
         "output_type": "display_data"
        }
       ]
      }
     },
     "4b25600a1ff148d4966cf7d967fea5c4": {
      "model_module": "@jupyter-widgets/controls",
      "model_module_version": "1.4.0",
      "model_name": "DescriptionStyleModel",
      "state": {
       "description_width": ""
      }
     },
     "4c43dd8301af420ab5de23351ca75de9": {
      "model_module": "@jupyter-widgets/base",
      "model_module_version": "1.1.0",
      "model_name": "LayoutModel",
      "state": {}
     },
     "4d9e6ad3ae5d445d9eeb3410c1de95e0": {
      "model_module": "@jupyter-widgets/controls",
      "model_module_version": "1.4.0",
      "model_name": "DescriptionStyleModel",
      "state": {
       "description_width": ""
      }
     },
     "4ed0551168474866bee2add8aed94be3": {
      "model_module": "@jupyter-widgets/base",
      "model_module_version": "1.1.0",
      "model_name": "LayoutModel",
      "state": {}
     },
     "4ed432377e5947969b60da7084e29646": {
      "model_module": "@jupyter-widgets/controls",
      "model_module_version": "1.4.0",
      "model_name": "CheckboxModel",
      "state": {
       "description": "do(ventricle_volume)",
       "disabled": false,
       "layout": "IPY_MODEL_b231ede34d4a42559ba8048bf68e7d45",
       "style": "IPY_MODEL_3792d950a6cd4375935f3692a657dd28",
       "value": true
      }
     },
     "4fb459dc6430467090a121a726370449": {
      "model_module": "@jupyter-widgets/controls",
      "model_module_version": "1.4.0",
      "model_name": "DescriptionStyleModel",
      "state": {
       "description_width": ""
      }
     },
     "502eff99b0754a13b3a342d1606b80aa": {
      "model_module": "@jupyter-widgets/controls",
      "model_module_version": "1.4.0",
      "model_name": "CheckboxModel",
      "state": {
       "description": "do_brain_volume",
       "disabled": false,
       "layout": "IPY_MODEL_770fdde2b3944db788dfba437fd8973e",
       "style": "IPY_MODEL_cf25d1d1468d436ab8fee561b2e46b46",
       "value": false
      }
     },
     "513374e0623d4d5a8655e68f44607f14": {
      "model_module": "@jupyter-widgets/base",
      "model_module_version": "1.1.0",
      "model_name": "LayoutModel",
      "state": {}
     },
     "537f83babff449aba2cdce2a3056f2e1": {
      "model_module": "@jupyter-widgets/output",
      "model_module_version": "1.0.0",
      "model_name": "OutputModel",
      "state": {
       "layout": "IPY_MODEL_445f8181ca084cf080cfc71ec3d2a174",
       "outputs": [
        {
         "data": {
          "image/png": "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\n",
          "text/plain": "<Figure size 720x180 with 4 Axes>"
         },
         "metadata": {},
         "output_type": "display_data"
        }
       ]
      }
     },
     "5437b4d71b364f278e119a9f04e8dbc7": {
      "model_module": "@jupyter-widgets/base",
      "model_module_version": "1.1.0",
      "model_name": "LayoutModel",
      "state": {}
     },
     "55ae066590e94a658eb5596eb2a3ce3a": {
      "model_module": "@jupyter-widgets/controls",
      "model_module_version": "1.4.0",
      "model_name": "SliderStyleModel",
      "state": {
       "description_width": "initial"
      }
     },
     "55dae5a49df748bf8e32d3dfd58b840c": {
      "model_module": "@jupyter-widgets/controls",
      "model_module_version": "1.4.0",
      "model_name": "SliderStyleModel",
      "state": {
       "description_width": ""
      }
     },
     "561c3468a3b0439fabb62c0acdc59ad2": {
      "model_module": "@jupyter-widgets/controls",
      "model_module_version": "1.4.0",
      "model_name": "HBoxModel",
      "state": {
       "children": [
        "IPY_MODEL_6467bfde4c74431c9a6043a6d6a098f1",
        "IPY_MODEL_3213d6c222f6419abbbe66e31fb5856a"
       ],
       "layout": "IPY_MODEL_590fd878faf749c4908c58e31c7eced5"
      }
     },
     "563fc0691511426388c41b48574ddc82": {
      "model_module": "@jupyter-widgets/controls",
      "model_module_version": "1.4.0",
      "model_name": "SliderStyleModel",
      "state": {
       "description_width": ""
      }
     },
     "5762762610664eb4a08ed75f73e03694": {
      "model_module": "@jupyter-widgets/base",
      "model_module_version": "1.1.0",
      "model_name": "LayoutModel",
      "state": {}
     },
     "5896a400fea345fda8e7a1e973c48bbb": {
      "model_module": "@jupyter-widgets/base",
      "model_module_version": "1.1.0",
      "model_name": "LayoutModel",
      "state": {}
     },
     "58ceb8bfe9574bbca20b807dc57e6314": {
      "model_module": "@jupyter-widgets/controls",
      "model_module_version": "1.4.0",
      "model_name": "SliderStyleModel",
      "state": {
       "description_width": ""
      }
     },
     "590fd878faf749c4908c58e31c7eced5": {
      "model_module": "@jupyter-widgets/base",
      "model_module_version": "1.1.0",
      "model_name": "LayoutModel",
      "state": {}
     },
     "59479320a8fc462390c62faa0e16361f": {
      "model_module": "@jupyter-widgets/base",
      "model_module_version": "1.1.0",
      "model_name": "LayoutModel",
      "state": {}
     },
     "5afac3a3aa1c46c6b28fcfb17611e9fe": {
      "model_module": "@jupyter-widgets/controls",
      "model_module_version": "1.4.0",
      "model_name": "SliderStyleModel",
      "state": {
       "description_width": ""
      }
     },
     "5c676e730e21460e86b3a1722ecb9518": {
      "model_module": "@jupyter-widgets/controls",
      "model_module_version": "1.4.0",
      "model_name": "DescriptionStyleModel",
      "state": {
       "description_width": ""
      }
     },
     "5e2b3cf66d6944bda05e9279b0d98eda": {
      "model_module": "@jupyter-widgets/controls",
      "model_module_version": "1.4.0",
      "model_name": "CheckboxModel",
      "state": {
       "description": "do(age)",
       "disabled": false,
       "layout": "IPY_MODEL_2fc82394abd84d62890298d694a87b3d",
       "style": "IPY_MODEL_1a05d9dc73b24dd3bb858f2e4170c314",
       "value": false
      }
     },
     "5f111a24517748799651af5d5a72da9c": {
      "model_module": "@jupyter-widgets/controls",
      "model_module_version": "1.4.0",
      "model_name": "SliderStyleModel",
      "state": {
       "description_width": ""
      }
     },
     "5f1933be05144fe5990a1b2739063023": {
      "model_module": "@jupyter-widgets/base",
      "model_module_version": "1.1.0",
      "model_name": "LayoutModel",
      "state": {}
     },
     "5f2478313daa432cb63505eb946f1b25": {
      "model_module": "@jupyter-widgets/controls",
      "model_module_version": "1.4.0",
      "model_name": "CheckboxModel",
      "state": {
       "description": "do(sex)",
       "disabled": false,
       "layout": "IPY_MODEL_1494648374404506955ccf422d28d36b",
       "style": "IPY_MODEL_dcd57302fd8e4ace95c7f892d4073887",
       "value": false
      }
     },
     "615c7444ce984880a16962408c00d4a1": {
      "model_module": "@jupyter-widgets/controls",
      "model_module_version": "1.4.0",
      "model_name": "SliderStyleModel",
      "state": {
       "description_width": ""
      }
     },
     "61a165ef9a0044cb8adfad1d0eb973eb": {
      "model_module": "@jupyter-widgets/controls",
      "model_module_version": "1.4.0",
      "model_name": "FloatSliderModel",
      "state": {
       "continuous_update": false,
       "description": "Ventricle V. (ml):",
       "layout": "IPY_MODEL_5f1933be05144fe5990a1b2739063023",
       "max": 110,
       "min": 11,
       "style": "IPY_MODEL_cebb2697a2ad4442bd43d65ecba90b7b",
       "value": 11
      }
     },
     "61d1818479544e82b674583625be353f": {
      "model_module": "@jupyter-widgets/base",
      "model_module_version": "1.1.0",
      "model_name": "LayoutModel",
      "state": {}
     },
     "6281e444396c4552bfeddf30e78fcce9": {
      "model_module": "@jupyter-widgets/controls",
      "model_module_version": "1.4.0",
      "model_name": "HBoxModel",
      "state": {
       "children": [
        "IPY_MODEL_bbe57886e42b454fadb7571830442ded",
        "IPY_MODEL_b44e63f9305b4fc98790aa07aa0d9931"
       ],
       "layout": "IPY_MODEL_7e6f125a19644969a37d561a4b118b04"
      }
     },
     "62aa8823dd2040bcad47c12520f1758a": {
      "model_module": "@jupyter-widgets/base",
      "model_module_version": "1.1.0",
      "model_name": "LayoutModel",
      "state": {}
     },
     "6467bfde4c74431c9a6043a6d6a098f1": {
      "model_module": "@jupyter-widgets/controls",
      "model_module_version": "1.4.0",
      "model_name": "DropdownModel",
      "state": {
       "_options_labels": [
        "female",
        "male"
       ],
       "description": "sex",
       "index": 0,
       "layout": "IPY_MODEL_c1ccdc7aaaa34d02b11fabb90686f246",
       "style": "IPY_MODEL_bf16235b6f5444c9b2c90ff56eb83ad6"
      }
     },
     "64c23b8703054490942ed95f5247d2ec": {
      "model_module": "@jupyter-widgets/controls",
      "model_module_version": "1.4.0",
      "model_name": "HBoxModel",
      "state": {
       "children": [
        "IPY_MODEL_b3242c5ccc02410c9d120ddbfb128835",
        "IPY_MODEL_035fd6285af14a2a9a8fb78248635ec6"
       ],
       "layout": "IPY_MODEL_14510bd6fe02477386bf20cfbff186d6"
      }
     },
     "65ba3956c7774947ada0116e6cf4b83d": {
      "model_module": "@jupyter-widgets/output",
      "model_module_version": "1.0.0",
      "model_name": "OutputModel",
      "state": {
       "layout": "IPY_MODEL_29485205de244d7389e920454cc2bbb5",
       "outputs": [
        {
         "data": {
          "image/png": "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\n",
          "text/plain": "<Figure size 720x180 with 4 Axes>"
         },
         "metadata": {},
         "output_type": "display_data"
        }
       ]
      }
     },
     "6695c9934ae04d3da8152deb906f8dfe": {
      "model_module": "@jupyter-widgets/base",
      "model_module_version": "1.1.0",
      "model_name": "LayoutModel",
      "state": {}
     },
     "66fab602ea064464ae976a55c6a6aa22": {
      "model_module": "@jupyter-widgets/controls",
      "model_module_version": "1.4.0",
      "model_name": "CheckboxModel",
      "state": {
       "description": "do(brain_volume)",
       "disabled": false,
       "layout": "IPY_MODEL_0121bbab40d04ee5aa35437a1ecd797b",
       "style": "IPY_MODEL_23afe84b6fc54aa18577c44f13f35854",
       "value": false
      }
     },
     "6727ad78e8df429ca1d69c474e1eb2db": {
      "model_module": "@jupyter-widgets/controls",
      "model_module_version": "1.4.0",
      "model_name": "VBoxModel",
      "state": {
       "children": [
        "IPY_MODEL_0b79ed799e1145189530a6cf4685f7dc",
        "IPY_MODEL_1c045fed3eb84d6eb8e108f165a674c6",
        "IPY_MODEL_b17a7e5a1bae4d3bb1b1e4985b6f6539"
       ],
       "layout": "IPY_MODEL_b9bc24f967b048368cfab6bb982b285e"
      }
     },
     "68bd779654c84f30af972c73e49ec52a": {
      "model_module": "@jupyter-widgets/base",
      "model_module_version": "1.1.0",
      "model_name": "LayoutModel",
      "state": {}
     },
     "69da7f55f57346aa91f765b17c3cd34b": {
      "model_module": "@jupyter-widgets/controls",
      "model_module_version": "1.4.0",
      "model_name": "SliderStyleModel",
      "state": {
       "description_width": ""
      }
     },
     "69f9ca8685a44ac390a9357d915a3488": {
      "model_module": "@jupyter-widgets/controls",
      "model_module_version": "1.4.0",
      "model_name": "DropdownModel",
      "state": {
       "_options_labels": [
        "female",
        "male"
       ],
       "description": "Sex",
       "index": 0,
       "layout": "IPY_MODEL_73629f13053c45349793968a31584592",
       "style": "IPY_MODEL_3c1b7c24770042f9bd5c6f89c97552cd"
      }
     },
     "6c65d16d9899426bb1333aff99f18939": {
      "model_module": "@jupyter-widgets/controls",
      "model_module_version": "1.4.0",
      "model_name": "VBoxModel",
      "state": {
       "_dom_classes": [
        "widget-interact"
       ],
       "children": [
        "IPY_MODEL_0e89e853f9944ebf8c4d080d29184547",
        "IPY_MODEL_8935cb69f1e84c52972d27265cd9bc6b",
        "IPY_MODEL_ebd98c6cc70e4aa7b195e4a13ef48081",
        "IPY_MODEL_1a1fb7984bac41c2b2cd6858d603ed20",
        "IPY_MODEL_1116b8b4ba3b4406be0d0f6c84a98eac",
        "IPY_MODEL_91f7baa481f2470b9dd030b64a5826e5",
        "IPY_MODEL_26ca920aa7524d26967c61755d4ffca9",
        "IPY_MODEL_38055906a2004075ba3506fa6a77266b",
        "IPY_MODEL_4ed432377e5947969b60da7084e29646",
        "IPY_MODEL_7f050252620d43ad9f3c66a1f1330e5b"
       ],
       "layout": "IPY_MODEL_f51a15953aa648a4b5d9e39bd1f4fcf6"
      }
     },
     "6c8af2e8670840eeb9c32564bb88d365": {
      "model_module": "@jupyter-widgets/controls",
      "model_module_version": "1.4.0",
      "model_name": "VBoxModel",
      "state": {
       "children": [
        "IPY_MODEL_e9549bdf50ae4aaaa24ae59bee08de57",
        "IPY_MODEL_7349b6e469944e88a5f997ad8166e517",
        "IPY_MODEL_4a60601d5611498c961f9d1ce3eeca9a"
       ],
       "layout": "IPY_MODEL_5437b4d71b364f278e119a9f04e8dbc7"
      }
     },
     "6edb265d4b4d46299587dcdadb0ff783": {
      "model_module": "@jupyter-widgets/base",
      "model_module_version": "1.1.0",
      "model_name": "LayoutModel",
      "state": {}
     },
     "6efff746feb842028b3a901c8aca491d": {
      "model_module": "@jupyter-widgets/base",
      "model_module_version": "1.1.0",
      "model_name": "LayoutModel",
      "state": {}
     },
     "6f66f808296e4832ba624e4d329ba15f": {
      "model_module": "@jupyter-widgets/controls",
      "model_module_version": "1.4.0",
      "model_name": "SliderStyleModel",
      "state": {
       "description_width": ""
      }
     },
     "7083a7d629344e11b08563a147c19eaa": {
      "model_module": "@jupyter-widgets/base",
      "model_module_version": "1.1.0",
      "model_name": "LayoutModel",
      "state": {}
     },
     "708ab318b5b045f3aae6e4bb7ab7f393": {
      "model_module": "@jupyter-widgets/base",
      "model_module_version": "1.1.0",
      "model_name": "LayoutModel",
      "state": {}
     },
     "709f965b08094e62ab8f88428f3cc1b7": {
      "model_module": "@jupyter-widgets/base",
      "model_module_version": "1.1.0",
      "model_name": "LayoutModel",
      "state": {}
     },
     "7349b6e469944e88a5f997ad8166e517": {
      "model_module": "@jupyter-widgets/controls",
      "model_module_version": "1.4.0",
      "model_name": "VBoxModel",
      "state": {
       "children": [
        "IPY_MODEL_de8609ba929846ad99aa4c84b9475569",
        "IPY_MODEL_561c3468a3b0439fabb62c0acdc59ad2",
        "IPY_MODEL_260a648caf0f4706a4c3f2b1e26ccd44",
        "IPY_MODEL_f68679712bc74e978267266c901eda20"
       ],
       "layout": "IPY_MODEL_accd64a292904756b9b97513a6eab97d"
      }
     },
     "73629f13053c45349793968a31584592": {
      "model_module": "@jupyter-widgets/base",
      "model_module_version": "1.1.0",
      "model_name": "LayoutModel",
      "state": {}
     },
     "75f10f0292e743d7ab1c0778323e3ecf": {
      "model_module": "@jupyter-widgets/controls",
      "model_module_version": "1.4.0",
      "model_name": "SliderStyleModel",
      "state": {
       "description_width": "initial"
      }
     },
     "76788c53c622469ebe4f3b04a5c11eff": {
      "model_module": "@jupyter-widgets/controls",
      "model_module_version": "1.4.0",
      "model_name": "DescriptionStyleModel",
      "state": {
       "description_width": ""
      }
     },
     "76ee6816bde7498bbb406c28f4b50e91": {
      "model_module": "@jupyter-widgets/base",
      "model_module_version": "1.1.0",
      "model_name": "LayoutModel",
      "state": {}
     },
     "770fdde2b3944db788dfba437fd8973e": {
      "model_module": "@jupyter-widgets/base",
      "model_module_version": "1.1.0",
      "model_name": "LayoutModel",
      "state": {}
     },
     "793301ee1fee493a907dff52e6c8dfa3": {
      "model_module": "@jupyter-widgets/base",
      "model_module_version": "1.1.0",
      "model_name": "LayoutModel",
      "state": {}
     },
     "7b93e9d9c90e4d78b37df9b31129b442": {
      "model_module": "@jupyter-widgets/controls",
      "model_module_version": "1.4.0",
      "model_name": "HBoxModel",
      "state": {
       "children": [
        "IPY_MODEL_69f9ca8685a44ac390a9357d915a3488",
        "IPY_MODEL_adb71a9c0fac438f80d79cbf42d2acd7"
       ],
       "layout": "IPY_MODEL_9d635b1d540547469fe1befc868cb2ab"
      }
     },
     "7bdef9ca5d324d12852cc418b879ec9d": {
      "model_module": "@jupyter-widgets/controls",
      "model_module_version": "1.4.0",
      "model_name": "VBoxModel",
      "state": {
       "children": [
        "IPY_MODEL_b6faa04aef934dd2a8b0e408279b3edc",
        "IPY_MODEL_95439a8df3094018aeec346822995d17",
        "IPY_MODEL_64c23b8703054490942ed95f5247d2ec",
        "IPY_MODEL_bc7bf46c66fd4635aa02d3d68c59a7c4"
       ],
       "layout": "IPY_MODEL_e09928a009ec4f32a4541c9a702e8922"
      }
     },
     "7c2a3ba9547d4166acdecc5dd0444f8e": {
      "model_module": "@jupyter-widgets/controls",
      "model_module_version": "1.4.0",
      "model_name": "FloatSliderModel",
      "state": {
       "continuous_update": false,
       "description": "Ventricle Volume (ml):",
       "layout": "IPY_MODEL_c3e439475f67460ea9886544ff790850",
       "max": 110,
       "min": 11,
       "style": "IPY_MODEL_c6b303b23a6d4ea1888f68acaf97ce72",
       "value": 11
      }
     },
     "7c5c76f2e1f64e599fa93a8617f71ab2": {
      "model_module": "@jupyter-widgets/base",
      "model_module_version": "1.1.0",
      "model_name": "LayoutModel",
      "state": {}
     },
     "7c865244a42c42088f484e62faf81d50": {
      "model_module": "@jupyter-widgets/base",
      "model_module_version": "1.1.0",
      "model_name": "LayoutModel",
      "state": {}
     },
     "7d1e1dbbcc38499fab2bc4a913634e42": {
      "model_module": "@jupyter-widgets/controls",
      "model_module_version": "1.4.0",
      "model_name": "VBoxModel",
      "state": {
       "_dom_classes": [
        "widget-interact"
       ],
       "children": [
        "IPY_MODEL_34386a433eeb46e1bccd5e268de9bf5a",
        "IPY_MODEL_9eafd01eb7544f158df315111b100714",
        "IPY_MODEL_24d48486642f469e8df7c316b7068719",
        "IPY_MODEL_b3242c5ccc02410c9d120ddbfb128835",
        "IPY_MODEL_0744e415213444d89d3458b6c6031192",
        "IPY_MODEL_404bd4da987d463e98b61bf961711034",
        "IPY_MODEL_41e25f4584ee4182a5e91a723c608042",
        "IPY_MODEL_035fd6285af14a2a9a8fb78248635ec6",
        "IPY_MODEL_02b584312cac402a9d4faacb9cd9b674",
        "IPY_MODEL_65ba3956c7774947ada0116e6cf4b83d"
       ],
       "layout": "IPY_MODEL_943004fcefdb4322993fd62b731c1324"
      }
     },
     "7e6f125a19644969a37d561a4b118b04": {
      "model_module": "@jupyter-widgets/base",
      "model_module_version": "1.1.0",
      "model_name": "LayoutModel",
      "state": {}
     },
     "7e855a2c37794ab696240c59e3ec85b7": {
      "model_module": "@jupyter-widgets/base",
      "model_module_version": "1.1.0",
      "model_name": "LayoutModel",
      "state": {}
     },
     "7f050252620d43ad9f3c66a1f1330e5b": {
      "model_module": "@jupyter-widgets/output",
      "model_module_version": "1.0.0",
      "model_name": "OutputModel",
      "state": {
       "layout": "IPY_MODEL_be1d3db53d014c6a9661ab5473a59721",
       "outputs": [
        {
         "data": {
          "image/png": "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\n",
          "text/plain": "<Figure size 720x180 with 4 Axes>"
         },
         "metadata": {},
         "output_type": "display_data"
        }
       ]
      }
     },
     "81910df5cb8a428aa97ee883a99992d0": {
      "model_module": "@jupyter-widgets/controls",
      "model_module_version": "1.4.0",
      "model_name": "HBoxModel",
      "state": {
       "children": [
        "IPY_MODEL_ebd98c6cc70e4aa7b195e4a13ef48081",
        "IPY_MODEL_26ca920aa7524d26967c61755d4ffca9"
       ],
       "layout": "IPY_MODEL_7e855a2c37794ab696240c59e3ec85b7"
      }
     },
     "85d19e15a47e41dd8f0c2737b29d2e9e": {
      "model_module": "@jupyter-widgets/controls",
      "model_module_version": "1.4.0",
      "model_name": "SliderStyleModel",
      "state": {
       "description_width": ""
      }
     },
     "86710c2fa6de4755b26a0aba3127fdeb": {
      "model_module": "@jupyter-widgets/controls",
      "model_module_version": "1.4.0",
      "model_name": "FloatSliderModel",
      "state": {
       "continuous_update": false,
       "description": "Ventricle Volume (ml):",
       "layout": "IPY_MODEL_1e35641a88994572a0d8fc18c5bd6cca",
       "max": 110000,
       "min": 11000,
       "step": 1000,
       "style": "IPY_MODEL_26b55c98244e4bc8b431b1d3ebe2c9af",
       "value": 11000
      }
     },
     "874a4f8ecc274765849d5343b2c9425e": {
      "model_module": "@jupyter-widgets/controls",
      "model_module_version": "1.4.0",
      "model_name": "VBoxModel",
      "state": {
       "children": [
        "IPY_MODEL_e86416facf2e48f9a36e2f6b519f8951",
        "IPY_MODEL_e6a6507ed07a4e8e978767fdc6f48dca",
        "IPY_MODEL_94384c8ecc684c978daea11dd7bf903f",
        "IPY_MODEL_df9e9393c292487fa98b1f1636ca08da"
       ],
       "layout": "IPY_MODEL_98114bcbf2224d1ba47635c2911f4b2d"
      }
     },
     "87a1795907894bfc972e65a292afd116": {
      "model_module": "@jupyter-widgets/base",
      "model_module_version": "1.1.0",
      "model_name": "LayoutModel",
      "state": {}
     },
     "880f5ad33bff4d5590b9af00771de216": {
      "model_module": "@jupyter-widgets/controls",
      "model_module_version": "1.4.0",
      "model_name": "FloatSliderModel",
      "state": {
       "continuous_update": false,
       "description": "age",
       "layout": "IPY_MODEL_6efff746feb842028b3a901c8aca491d",
       "max": 120,
       "min": 30,
       "step": 0.1,
       "style": "IPY_MODEL_fc318e8c84a94a989324693f8971986f",
       "value": 30
      }
     },
     "891d9394745c444c9ca089148d641a19": {
      "model_module": "@jupyter-widgets/controls",
      "model_module_version": "1.4.0",
      "model_name": "CheckboxModel",
      "state": {
       "description": "do_age",
       "disabled": false,
       "layout": "IPY_MODEL_0aa7576c8d8c4173b530242831024f77",
       "style": "IPY_MODEL_bc39dc5756254234beb3c8e6d89c503e",
       "value": false
      }
     },
     "8935cb69f1e84c52972d27265cd9bc6b": {
      "model_module": "@jupyter-widgets/controls",
      "model_module_version": "1.4.0",
      "model_name": "FloatSliderModel",
      "state": {
       "continuous_update": false,
       "description": "Age",
       "layout": "IPY_MODEL_6edb265d4b4d46299587dcdadb0ff783",
       "max": 120,
       "min": 30,
       "style": "IPY_MODEL_85d19e15a47e41dd8f0c2737b29d2e9e",
       "value": 30
      }
     },
     "89ae6af93c184e3b87902a4315329d14": {
      "model_module": "@jupyter-widgets/controls",
      "model_module_version": "1.4.0",
      "model_name": "CheckboxModel",
      "state": {
       "description": "do(brain_volume)",
       "disabled": false,
       "layout": "IPY_MODEL_2a43916ad5cf47a8ba2d431857cf9f60",
       "style": "IPY_MODEL_a65221e1288347168a636cfe415baa8f",
       "value": false
      }
     },
     "8b35b008bdc646e58e3910ffe4b1198c": {
      "model_module": "@jupyter-widgets/base",
      "model_module_version": "1.1.0",
      "model_name": "LayoutModel",
      "state": {}
     },
     "8b7ce6eaf13440219dac881f11af37b2": {
      "model_module": "@jupyter-widgets/base",
      "model_module_version": "1.1.0",
      "model_name": "LayoutModel",
      "state": {}
     },
     "8b9df24ec3cf403695bf2fcd26d3b811": {
      "model_module": "@jupyter-widgets/base",
      "model_module_version": "1.1.0",
      "model_name": "LayoutModel",
      "state": {}
     },
     "8cbc5cf6d9024771b923eca12c834d6f": {
      "model_module": "@jupyter-widgets/controls",
      "model_module_version": "1.4.0",
      "model_name": "CheckboxModel",
      "state": {
       "description": "do(age)",
       "disabled": false,
       "layout": "IPY_MODEL_61d1818479544e82b674583625be353f",
       "style": "IPY_MODEL_4d9e6ad3ae5d445d9eeb3410c1de95e0",
       "value": false
      }
     },
     "8fff2e9550cb42edae11671dc5d106ca": {
      "model_module": "@jupyter-widgets/controls",
      "model_module_version": "1.4.0",
      "model_name": "SliderStyleModel",
      "state": {
       "description_width": ""
      }
     },
     "9001d5038cbf40cd9f17ed2fb3ca5dc9": {
      "model_module": "@jupyter-widgets/base",
      "model_module_version": "1.1.0",
      "model_name": "LayoutModel",
      "state": {}
     },
     "912f9b45b8d7454aa0a6848764d9dcb8": {
      "model_module": "@jupyter-widgets/base",
      "model_module_version": "1.1.0",
      "model_name": "LayoutModel",
      "state": {}
     },
     "91cad22da6e34b3181d82b585c69fd1f": {
      "model_module": "@jupyter-widgets/base",
      "model_module_version": "1.1.0",
      "model_name": "LayoutModel",
      "state": {}
     },
     "91f7baa481f2470b9dd030b64a5826e5": {
      "model_module": "@jupyter-widgets/controls",
      "model_module_version": "1.4.0",
      "model_name": "CheckboxModel",
      "state": {
       "description": "do(age)",
       "disabled": false,
       "layout": "IPY_MODEL_c04e8e83d5144879a16203a63859ed79",
       "style": "IPY_MODEL_5c676e730e21460e86b3a1722ecb9518",
       "value": false
      }
     },
     "930337820abd4d95b06ad1f4c3176295": {
      "model_module": "@jupyter-widgets/base",
      "model_module_version": "1.1.0",
      "model_name": "LayoutModel",
      "state": {}
     },
     "93bec58e843f4dd9b6048046e5aec38f": {
      "model_module": "@jupyter-widgets/controls",
      "model_module_version": "1.4.0",
      "model_name": "HBoxModel",
      "state": {
       "children": [
        "IPY_MODEL_f1d56d3eca5244eebbf3389eddec2ac8",
        "IPY_MODEL_372ef8a40dd5497eb307a86bf2aab409"
       ],
       "layout": "IPY_MODEL_4ed0551168474866bee2add8aed94be3"
      }
     },
     "943004fcefdb4322993fd62b731c1324": {
      "model_module": "@jupyter-widgets/base",
      "model_module_version": "1.1.0",
      "model_name": "LayoutModel",
      "state": {}
     },
     "94384c8ecc684c978daea11dd7bf903f": {
      "model_module": "@jupyter-widgets/controls",
      "model_module_version": "1.4.0",
      "model_name": "HBoxModel",
      "state": {
       "children": [
        "IPY_MODEL_ac566e36eea94729af338c3c146da7f6",
        "IPY_MODEL_66fab602ea064464ae976a55c6a6aa22"
       ],
       "layout": "IPY_MODEL_5762762610664eb4a08ed75f73e03694"
      }
     },
     "95439a8df3094018aeec346822995d17": {
      "model_module": "@jupyter-widgets/controls",
      "model_module_version": "1.4.0",
      "model_name": "HBoxModel",
      "state": {
       "children": [
        "IPY_MODEL_24d48486642f469e8df7c316b7068719",
        "IPY_MODEL_41e25f4584ee4182a5e91a723c608042"
       ],
       "layout": "IPY_MODEL_3b8e8a5c58c448ce81f068c5b2c9b8f5"
      }
     },
     "95932de457164d2fb116e3d6a8674f71": {
      "model_module": "@jupyter-widgets/base",
      "model_module_version": "1.1.0",
      "model_name": "LayoutModel",
      "state": {}
     },
     "9682ceabbd0b42ebbe051b45499ade8c": {
      "model_module": "@jupyter-widgets/base",
      "model_module_version": "1.1.0",
      "model_name": "LayoutModel",
      "state": {}
     },
     "98114bcbf2224d1ba47635c2911f4b2d": {
      "model_module": "@jupyter-widgets/base",
      "model_module_version": "1.1.0",
      "model_name": "LayoutModel",
      "state": {}
     },
     "99e3db3be9774514892f548ec92b2c0a": {
      "model_module": "@jupyter-widgets/base",
      "model_module_version": "1.1.0",
      "model_name": "LayoutModel",
      "state": {}
     },
     "99e937d0380b4d74b52a9f983e542bf8": {
      "model_module": "@jupyter-widgets/base",
      "model_module_version": "1.1.0",
      "model_name": "LayoutModel",
      "state": {}
     },
     "9a38e683ec8349048573c34b093ebac5": {
      "model_module": "@jupyter-widgets/base",
      "model_module_version": "1.1.0",
      "model_name": "LayoutModel",
      "state": {}
     },
     "9a650b6222cc4c6da08ecf34d073492c": {
      "model_module": "@jupyter-widgets/controls",
      "model_module_version": "1.4.0",
      "model_name": "VBoxModel",
      "state": {
       "_dom_classes": [
        "widget-interact"
       ],
       "children": [
        "IPY_MODEL_f33366c7399a4aaebdabda733137d1ab",
        "IPY_MODEL_1583b428f4144c2981df410d9f36b816",
        "IPY_MODEL_3a2db0adf4c24d67a570e7d3ed91cdf5",
        "IPY_MODEL_aa548ec3fb7848c0af97a8a719fe62b4",
        "IPY_MODEL_61a165ef9a0044cb8adfad1d0eb973eb",
        "IPY_MODEL_8cbc5cf6d9024771b923eca12c834d6f",
        "IPY_MODEL_5f2478313daa432cb63505eb946f1b25",
        "IPY_MODEL_89ae6af93c184e3b87902a4315329d14",
        "IPY_MODEL_ca7444206176430e9012dcce0614c379",
        "IPY_MODEL_e42d05cdb84247e9aaf8a0135030afa7"
       ],
       "layout": "IPY_MODEL_7083a7d629344e11b08563a147c19eaa"
      }
     },
     "9ac1ffd73e1c4218a3f71b873b27bd1b": {
      "model_module": "@jupyter-widgets/base",
      "model_module_version": "1.1.0",
      "model_name": "LayoutModel",
      "state": {}
     },
     "9d635b1d540547469fe1befc868cb2ab": {
      "model_module": "@jupyter-widgets/base",
      "model_module_version": "1.1.0",
      "model_name": "LayoutModel",
      "state": {}
     },
     "9e4d0848bcee46778f6b3e0aff927bd0": {
      "model_module": "@jupyter-widgets/base",
      "model_module_version": "1.1.0",
      "model_name": "LayoutModel",
      "state": {}
     },
     "9eafd01eb7544f158df315111b100714": {
      "model_module": "@jupyter-widgets/controls",
      "model_module_version": "1.4.0",
      "model_name": "FloatSliderModel",
      "state": {
       "continuous_update": false,
       "description": "age",
       "layout": "IPY_MODEL_8b7ce6eaf13440219dac881f11af37b2",
       "max": 120,
       "min": 30,
       "step": 0.1,
       "style": "IPY_MODEL_f35a340f424942b5beee909ce286c73a",
       "value": 30
      }
     },
     "9f26aa8390ec4c88ae1e8e8789756825": {
      "model_module": "@jupyter-widgets/controls",
      "model_module_version": "1.4.0",
      "model_name": "SliderStyleModel",
      "state": {
       "description_width": ""
      }
     },
     "a2047a9f175144fda6f7b5230f6e52b9": {
      "model_module": "@jupyter-widgets/controls",
      "model_module_version": "1.4.0",
      "model_name": "DescriptionStyleModel",
      "state": {
       "description_width": ""
      }
     },
     "a4fcc4aeb59c4914a964b61d7d1ad07c": {
      "model_module": "@jupyter-widgets/controls",
      "model_module_version": "1.4.0",
      "model_name": "SliderStyleModel",
      "state": {
       "description_width": ""
      }
     },
     "a65221e1288347168a636cfe415baa8f": {
      "model_module": "@jupyter-widgets/controls",
      "model_module_version": "1.4.0",
      "model_name": "DescriptionStyleModel",
      "state": {
       "description_width": ""
      }
     },
     "a74e1fac9c244a0fac36fc3136622d38": {
      "model_module": "@jupyter-widgets/base",
      "model_module_version": "1.1.0",
      "model_name": "LayoutModel",
      "state": {}
     },
     "a926aa6394e54a028bfded08788d0e41": {
      "model_module": "@jupyter-widgets/base",
      "model_module_version": "1.1.0",
      "model_name": "LayoutModel",
      "state": {}
     },
     "a978c03a157d46f3b28a15d54c27d55d": {
      "model_module": "@jupyter-widgets/controls",
      "model_module_version": "1.4.0",
      "model_name": "HBoxModel",
      "state": {
       "children": [
        "IPY_MODEL_1116b8b4ba3b4406be0d0f6c84a98eac",
        "IPY_MODEL_4ed432377e5947969b60da7084e29646"
       ],
       "layout": "IPY_MODEL_396bff0db8ab497aa2704fd39be8c682"
      }
     },
     "aa548ec3fb7848c0af97a8a719fe62b4": {
      "model_module": "@jupyter-widgets/controls",
      "model_module_version": "1.4.0",
      "model_name": "FloatSliderModel",
      "state": {
       "continuous_update": false,
       "description": "Brain V. (ml):",
       "layout": "IPY_MODEL_483f2d1ebec241309af94bcba099ea94",
       "max": 1600,
       "min": 800,
       "step": 100,
       "style": "IPY_MODEL_75f10f0292e743d7ab1c0778323e3ecf",
       "value": 800
      }
     },
     "ac566e36eea94729af338c3c146da7f6": {
      "model_module": "@jupyter-widgets/controls",
      "model_module_version": "1.4.0",
      "model_name": "FloatSliderModel",
      "state": {
       "continuous_update": false,
       "description": "Brain V. (ml):",
       "layout": "IPY_MODEL_7c5c76f2e1f64e599fa93a8617f71ab2",
       "max": 1600,
       "min": 800,
       "step": 100,
       "style": "IPY_MODEL_615c7444ce984880a16962408c00d4a1",
       "value": 800
      }
     },
     "accd64a292904756b9b97513a6eab97d": {
      "model_module": "@jupyter-widgets/base",
      "model_module_version": "1.1.0",
      "model_name": "LayoutModel",
      "state": {}
     },
     "adb71a9c0fac438f80d79cbf42d2acd7": {
      "model_module": "@jupyter-widgets/controls",
      "model_module_version": "1.4.0",
      "model_name": "CheckboxModel",
      "state": {
       "description": "do(sex)",
       "disabled": false,
       "layout": "IPY_MODEL_d224508dd6a24ed6a6e7859663b6c4da",
       "style": "IPY_MODEL_bd301368e52944af83fde24f50d5be05",
       "value": false
      }
     },
     "b17a7e5a1bae4d3bb1b1e4985b6f6539": {
      "model_module": "@jupyter-widgets/output",
      "model_module_version": "1.0.0",
      "model_name": "OutputModel",
      "state": {
       "layout": "IPY_MODEL_a926aa6394e54a028bfded08788d0e41",
       "outputs": [
        {
         "data": {
          "image/png": "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\n",
          "text/plain": "<Figure size 720x180 with 4 Axes>"
         },
         "metadata": {},
         "output_type": "display_data"
        }
       ]
      }
     },
     "b231ede34d4a42559ba8048bf68e7d45": {
      "model_module": "@jupyter-widgets/base",
      "model_module_version": "1.1.0",
      "model_name": "LayoutModel",
      "state": {}
     },
     "b3242c5ccc02410c9d120ddbfb128835": {
      "model_module": "@jupyter-widgets/controls",
      "model_module_version": "1.4.0",
      "model_name": "FloatSliderModel",
      "state": {
       "continuous_update": false,
       "description": "Brain V. (ml):",
       "layout": "IPY_MODEL_367015b7ba174c5f945c84de36aee40e",
       "max": 1600,
       "min": 800,
       "step": 100,
       "style": "IPY_MODEL_55dae5a49df748bf8e32d3dfd58b840c",
       "value": 1100
      }
     },
     "b44e63f9305b4fc98790aa07aa0d9931": {
      "model_module": "@jupyter-widgets/controls",
      "model_module_version": "1.4.0",
      "model_name": "CheckboxModel",
      "state": {
       "description": "do(brain_volume)",
       "disabled": false,
       "layout": "IPY_MODEL_87a1795907894bfc972e65a292afd116",
       "style": "IPY_MODEL_0783e50734fe4bca9fdba7d1255041fd",
       "value": false
      }
     },
     "b5c37661c4144eceae222d805afb82c9": {
      "model_module": "@jupyter-widgets/controls",
      "model_module_version": "1.4.0",
      "model_name": "FloatSliderModel",
      "state": {
       "continuous_update": false,
       "description": "Age",
       "layout": "IPY_MODEL_76ee6816bde7498bbb406c28f4b50e91",
       "max": 120,
       "min": 30,
       "step": 0.1,
       "style": "IPY_MODEL_d09b6c246d004d739e41c8024b8d2dcb",
       "value": 30
      }
     },
     "b6faa04aef934dd2a8b0e408279b3edc": {
      "model_module": "@jupyter-widgets/controls",
      "model_module_version": "1.4.0",
      "model_name": "HBoxModel",
      "state": {
       "children": [
        "IPY_MODEL_9eafd01eb7544f158df315111b100714",
        "IPY_MODEL_404bd4da987d463e98b61bf961711034"
       ],
       "layout": "IPY_MODEL_95932de457164d2fb116e3d6a8674f71"
      }
     },
     "b7279b013ce44f6dace24f5e602c55dc": {
      "model_module": "@jupyter-widgets/base",
      "model_module_version": "1.1.0",
      "model_name": "LayoutModel",
      "state": {}
     },
     "b72de2b4a5744e2399ac64136836ea2a": {
      "model_module": "@jupyter-widgets/controls",
      "model_module_version": "1.4.0",
      "model_name": "VBoxModel",
      "state": {
       "_dom_classes": [
        "widget-interact"
       ],
       "children": [
        "IPY_MODEL_4a4c906331c5478e98e0594a430dd1aa",
        "IPY_MODEL_b5c37661c4144eceae222d805afb82c9",
        "IPY_MODEL_ba078abbed234484a76c81c3f9de3463",
        "IPY_MODEL_ac566e36eea94729af338c3c146da7f6",
        "IPY_MODEL_fd920d856b2f45678d711f625500a167",
        "IPY_MODEL_5e2b3cf66d6944bda05e9279b0d98eda",
        "IPY_MODEL_39d800f30f9e4fadbad70cd29e5a06f6",
        "IPY_MODEL_66fab602ea064464ae976a55c6a6aa22",
        "IPY_MODEL_f730423016a8418db75ddae98d5b4415",
        "IPY_MODEL_537f83babff449aba2cdce2a3056f2e1"
       ],
       "layout": "IPY_MODEL_43f48d3460bb463982c68eb756d14d95"
      }
     },
     "b77f2c92692d45b5bafd13ad6d745c8a": {
      "model_module": "@jupyter-widgets/controls",
      "model_module_version": "1.4.0",
      "model_name": "DescriptionStyleModel",
      "state": {
       "description_width": ""
      }
     },
     "b9bc24f967b048368cfab6bb982b285e": {
      "model_module": "@jupyter-widgets/base",
      "model_module_version": "1.1.0",
      "model_name": "LayoutModel",
      "state": {}
     },
     "ba078abbed234484a76c81c3f9de3463": {
      "model_module": "@jupyter-widgets/controls",
      "model_module_version": "1.4.0",
      "model_name": "DropdownModel",
      "state": {
       "_options_labels": [
        "female",
        "male"
       ],
       "description": "Sex",
       "index": 0,
       "layout": "IPY_MODEL_f826ce78132741c386baac36ff03efd2",
       "style": "IPY_MODEL_f2f8eb25f45b49bf93c96e86be095d40"
      }
     },
     "bbe57886e42b454fadb7571830442ded": {
      "model_module": "@jupyter-widgets/controls",
      "model_module_version": "1.4.0",
      "model_name": "FloatSliderModel",
      "state": {
       "continuous_update": false,
       "description": "Brain Volume (ml):",
       "layout": "IPY_MODEL_2d2b6e70cc8e41169328c8660bac4046",
       "max": 1600,
       "min": 800,
       "step": 100,
       "style": "IPY_MODEL_55ae066590e94a658eb5596eb2a3ce3a",
       "value": 800
      }
     },
     "bc39dc5756254234beb3c8e6d89c503e": {
      "model_module": "@jupyter-widgets/controls",
      "model_module_version": "1.4.0",
      "model_name": "DescriptionStyleModel",
      "state": {
       "description_width": ""
      }
     },
     "bc7bf46c66fd4635aa02d3d68c59a7c4": {
      "model_module": "@jupyter-widgets/controls",
      "model_module_version": "1.4.0",
      "model_name": "HBoxModel",
      "state": {
       "children": [
        "IPY_MODEL_0744e415213444d89d3458b6c6031192",
        "IPY_MODEL_02b584312cac402a9d4faacb9cd9b674"
       ],
       "layout": "IPY_MODEL_6695c9934ae04d3da8152deb906f8dfe"
      }
     },
     "bd301368e52944af83fde24f50d5be05": {
      "model_module": "@jupyter-widgets/controls",
      "model_module_version": "1.4.0",
      "model_name": "DescriptionStyleModel",
      "state": {
       "description_width": ""
      }
     },
     "be1d3db53d014c6a9661ab5473a59721": {
      "model_module": "@jupyter-widgets/base",
      "model_module_version": "1.1.0",
      "model_name": "LayoutModel",
      "state": {}
     },
     "bf16235b6f5444c9b2c90ff56eb83ad6": {
      "model_module": "@jupyter-widgets/controls",
      "model_module_version": "1.4.0",
      "model_name": "DescriptionStyleModel",
      "state": {
       "description_width": ""
      }
     },
     "c04e8e83d5144879a16203a63859ed79": {
      "model_module": "@jupyter-widgets/base",
      "model_module_version": "1.1.0",
      "model_name": "LayoutModel",
      "state": {}
     },
     "c1ccdc7aaaa34d02b11fabb90686f246": {
      "model_module": "@jupyter-widgets/base",
      "model_module_version": "1.1.0",
      "model_name": "LayoutModel",
      "state": {}
     },
     "c3e439475f67460ea9886544ff790850": {
      "model_module": "@jupyter-widgets/base",
      "model_module_version": "1.1.0",
      "model_name": "LayoutModel",
      "state": {}
     },
     "c48f37b4441547eb8cb57bd8cbfeecb8": {
      "model_module": "@jupyter-widgets/controls",
      "model_module_version": "1.4.0",
      "model_name": "SliderStyleModel",
      "state": {
       "description_width": ""
      }
     },
     "c6b303b23a6d4ea1888f68acaf97ce72": {
      "model_module": "@jupyter-widgets/controls",
      "model_module_version": "1.4.0",
      "model_name": "SliderStyleModel",
      "state": {
       "description_width": "initial"
      }
     },
     "c7c7aab003e4411dafb67382d700a152": {
      "model_module": "@jupyter-widgets/controls",
      "model_module_version": "1.4.0",
      "model_name": "FloatSliderModel",
      "state": {
       "continuous_update": false,
       "description": "Brain Volume (ml):",
       "layout": "IPY_MODEL_3312fda9ad424958bfacbe6e92eb3cd4",
       "max": 1600000,
       "min": 800000,
       "step": 100000,
       "style": "IPY_MODEL_8fff2e9550cb42edae11671dc5d106ca",
       "value": 800000
      }
     },
     "ca7444206176430e9012dcce0614c379": {
      "model_module": "@jupyter-widgets/controls",
      "model_module_version": "1.4.0",
      "model_name": "CheckboxModel",
      "state": {
       "description": "do(ventricle_volume)",
       "disabled": false,
       "layout": "IPY_MODEL_68bd779654c84f30af972c73e49ec52a",
       "style": "IPY_MODEL_d1e45d236be24693b28b8e82a3c7e7f7",
       "value": false
      }
     },
     "cde26f0b0c114027a9f1355f42d960b5": {
      "model_module": "@jupyter-widgets/base",
      "model_module_version": "1.1.0",
      "model_name": "LayoutModel",
      "state": {}
     },
     "cebb2697a2ad4442bd43d65ecba90b7b": {
      "model_module": "@jupyter-widgets/controls",
      "model_module_version": "1.4.0",
      "model_name": "SliderStyleModel",
      "state": {
       "description_width": "initial"
      }
     },
     "cf25d1d1468d436ab8fee561b2e46b46": {
      "model_module": "@jupyter-widgets/controls",
      "model_module_version": "1.4.0",
      "model_name": "DescriptionStyleModel",
      "state": {
       "description_width": ""
      }
     },
     "d09b6c246d004d739e41c8024b8d2dcb": {
      "model_module": "@jupyter-widgets/controls",
      "model_module_version": "1.4.0",
      "model_name": "SliderStyleModel",
      "state": {
       "description_width": ""
      }
     },
     "d0b91348bd93425f9b1e6576bf539157": {
      "model_module": "@jupyter-widgets/base",
      "model_module_version": "1.1.0",
      "model_name": "LayoutModel",
      "state": {}
     },
     "d1e45d236be24693b28b8e82a3c7e7f7": {
      "model_module": "@jupyter-widgets/controls",
      "model_module_version": "1.4.0",
      "model_name": "DescriptionStyleModel",
      "state": {
       "description_width": ""
      }
     },
     "d224508dd6a24ed6a6e7859663b6c4da": {
      "model_module": "@jupyter-widgets/base",
      "model_module_version": "1.1.0",
      "model_name": "LayoutModel",
      "state": {}
     },
     "d5248871bad4484cb566fe579fb8db18": {
      "model_module": "@jupyter-widgets/base",
      "model_module_version": "1.1.0",
      "model_name": "LayoutModel",
      "state": {}
     },
     "d6dfe2c624194e04ab3e5cab0cc926c0": {
      "model_module": "@jupyter-widgets/controls",
      "model_module_version": "1.4.0",
      "model_name": "HBoxModel",
      "state": {
       "children": [
        "IPY_MODEL_aa548ec3fb7848c0af97a8a719fe62b4",
        "IPY_MODEL_89ae6af93c184e3b87902a4315329d14"
       ],
       "layout": "IPY_MODEL_9ac1ffd73e1c4218a3f71b873b27bd1b"
      }
     },
     "d7b669f31c7c48e29f79ba4ed94cb774": {
      "model_module": "@jupyter-widgets/controls",
      "model_module_version": "1.4.0",
      "model_name": "HBoxModel",
      "state": {
       "children": [
        "IPY_MODEL_1a1fb7984bac41c2b2cd6858d603ed20",
        "IPY_MODEL_38055906a2004075ba3506fa6a77266b"
       ],
       "layout": "IPY_MODEL_310cf32479ba422fa70d645f94881af2"
      }
     },
     "dbd9de2e1871402d87955154c7848ea2": {
      "model_module": "@jupyter-widgets/controls",
      "model_module_version": "1.4.0",
      "model_name": "VBoxModel",
      "state": {
       "children": [
        "IPY_MODEL_446dc40156344b03b96a6e4fcb31ccda",
        "IPY_MODEL_81910df5cb8a428aa97ee883a99992d0",
        "IPY_MODEL_d7b669f31c7c48e29f79ba4ed94cb774",
        "IPY_MODEL_a978c03a157d46f3b28a15d54c27d55d"
       ],
       "layout": "IPY_MODEL_9682ceabbd0b42ebbe051b45499ade8c"
      }
     },
     "dcd57302fd8e4ace95c7f892d4073887": {
      "model_module": "@jupyter-widgets/controls",
      "model_module_version": "1.4.0",
      "model_name": "DescriptionStyleModel",
      "state": {
       "description_width": ""
      }
     },
     "dceb6d5f65c246ca800b697ea85b65e8": {
      "model_module": "@jupyter-widgets/controls",
      "model_module_version": "1.4.0",
      "model_name": "DescriptionStyleModel",
      "state": {
       "description_width": ""
      }
     },
     "dd399fe66b9d4eb68bd703b4553dbc2e": {
      "model_module": "@jupyter-widgets/base",
      "model_module_version": "1.1.0",
      "model_name": "LayoutModel",
      "state": {}
     },
     "ddd41cf434c946e7b2a05f9e3b39522d": {
      "model_module": "@jupyter-widgets/controls",
      "model_module_version": "1.4.0",
      "model_name": "VBoxModel",
      "state": {
       "children": [
        "IPY_MODEL_4a4c906331c5478e98e0594a430dd1aa",
        "IPY_MODEL_874a4f8ecc274765849d5343b2c9425e",
        "IPY_MODEL_537f83babff449aba2cdce2a3056f2e1"
       ],
       "layout": "IPY_MODEL_2c811bc760bb4152b5976ac54620b1dd"
      }
     },
     "de8609ba929846ad99aa4c84b9475569": {
      "model_module": "@jupyter-widgets/controls",
      "model_module_version": "1.4.0",
      "model_name": "HBoxModel",
      "state": {
       "children": [
        "IPY_MODEL_880f5ad33bff4d5590b9af00771de216",
        "IPY_MODEL_891d9394745c444c9ca089148d641a19"
       ],
       "layout": "IPY_MODEL_eb533da2dc884cfcaee9340ef84b078d"
      }
     },
     "df9e9393c292487fa98b1f1636ca08da": {
      "model_module": "@jupyter-widgets/controls",
      "model_module_version": "1.4.0",
      "model_name": "HBoxModel",
      "state": {
       "children": [
        "IPY_MODEL_fd920d856b2f45678d711f625500a167",
        "IPY_MODEL_f730423016a8418db75ddae98d5b4415"
       ],
       "layout": "IPY_MODEL_08b02ed861a343eca5b7faabfd42dbe6"
      }
     },
     "e09928a009ec4f32a4541c9a702e8922": {
      "model_module": "@jupyter-widgets/base",
      "model_module_version": "1.1.0",
      "model_name": "LayoutModel",
      "state": {}
     },
     "e1d3a064e37a40d298cfa8481bd571e0": {
      "model_module": "@jupyter-widgets/controls",
      "model_module_version": "1.4.0",
      "model_name": "CheckboxModel",
      "state": {
       "description": "do(age)",
       "disabled": false,
       "layout": "IPY_MODEL_dd399fe66b9d4eb68bd703b4553dbc2e",
       "style": "IPY_MODEL_05866f00165e4a4c9b48cc19c1d84188",
       "value": false
      }
     },
     "e42d05cdb84247e9aaf8a0135030afa7": {
      "model_module": "@jupyter-widgets/output",
      "model_module_version": "1.0.0",
      "model_name": "OutputModel",
      "state": {
       "layout": "IPY_MODEL_25fc88e3bb914b5596ffb7d8e8cc73fd",
       "outputs": [
        {
         "data": {
          "image/png": "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\n",
          "text/plain": "<Figure size 720x180 with 4 Axes>"
         },
         "metadata": {},
         "output_type": "display_data"
        }
       ]
      }
     },
     "e577a8f9d61f4b709c0d1bc445099746": {
      "model_module": "@jupyter-widgets/base",
      "model_module_version": "1.1.0",
      "model_name": "LayoutModel",
      "state": {}
     },
     "e63386a16e6d4b63928d4629541a449d": {
      "model_module": "@jupyter-widgets/controls",
      "model_module_version": "1.4.0",
      "model_name": "VBoxModel",
      "state": {
       "children": [
        "IPY_MODEL_f415a8501b664558bf614a80fa1fe86d",
        "IPY_MODEL_4139cd28e6dd44208affa4541ee6b3af",
        "IPY_MODEL_d6dfe2c624194e04ab3e5cab0cc926c0",
        "IPY_MODEL_195ef94355e4436b87c53387a79b2b15"
       ],
       "layout": "IPY_MODEL_4c43dd8301af420ab5de23351ca75de9"
      }
     },
     "e6a6507ed07a4e8e978767fdc6f48dca": {
      "model_module": "@jupyter-widgets/controls",
      "model_module_version": "1.4.0",
      "model_name": "HBoxModel",
      "state": {
       "children": [
        "IPY_MODEL_ba078abbed234484a76c81c3f9de3463",
        "IPY_MODEL_39d800f30f9e4fadbad70cd29e5a06f6"
       ],
       "layout": "IPY_MODEL_40cff898b8ed4785be9bf0a4846fb3c2"
      }
     },
     "e86416facf2e48f9a36e2f6b519f8951": {
      "model_module": "@jupyter-widgets/controls",
      "model_module_version": "1.4.0",
      "model_name": "HBoxModel",
      "state": {
       "children": [
        "IPY_MODEL_b5c37661c4144eceae222d805afb82c9",
        "IPY_MODEL_5e2b3cf66d6944bda05e9279b0d98eda"
       ],
       "layout": "IPY_MODEL_b7279b013ce44f6dace24f5e602c55dc"
      }
     },
     "e9549bdf50ae4aaaa24ae59bee08de57": {
      "model_module": "@jupyter-widgets/controls",
      "model_module_version": "1.4.0",
      "model_name": "IntSliderModel",
      "state": {
       "description": "image",
       "layout": "IPY_MODEL_7c865244a42c42088f484e62faf81d50",
       "max": 4,
       "style": "IPY_MODEL_69da7f55f57346aa91f765b17c3cd34b",
       "value": 2
      }
     },
     "eb533da2dc884cfcaee9340ef84b078d": {
      "model_module": "@jupyter-widgets/base",
      "model_module_version": "1.1.0",
      "model_name": "LayoutModel",
      "state": {}
     },
     "ebd98c6cc70e4aa7b195e4a13ef48081": {
      "model_module": "@jupyter-widgets/controls",
      "model_module_version": "1.4.0",
      "model_name": "DropdownModel",
      "state": {
       "_options_labels": [
        "female",
        "male"
       ],
       "description": "Sex",
       "index": 0,
       "layout": "IPY_MODEL_47019cc51a8d4ec889bb0e262ea00812",
       "style": "IPY_MODEL_24f0d925225d4feb89fc32b479372a82"
      }
     },
     "ec872bbf54d44f1cae60faa308cc5ec8": {
      "model_module": "@jupyter-widgets/controls",
      "model_module_version": "1.4.0",
      "model_name": "VBoxModel",
      "state": {
       "_dom_classes": [
        "widget-interact"
       ],
       "children": [
        "IPY_MODEL_0b79ed799e1145189530a6cf4685f7dc",
        "IPY_MODEL_f1d56d3eca5244eebbf3389eddec2ac8",
        "IPY_MODEL_69f9ca8685a44ac390a9357d915a3488",
        "IPY_MODEL_bbe57886e42b454fadb7571830442ded",
        "IPY_MODEL_7c2a3ba9547d4166acdecc5dd0444f8e",
        "IPY_MODEL_372ef8a40dd5497eb307a86bf2aab409",
        "IPY_MODEL_adb71a9c0fac438f80d79cbf42d2acd7",
        "IPY_MODEL_b44e63f9305b4fc98790aa07aa0d9931",
        "IPY_MODEL_20c3cf9f8daa46078d73818bbc6c5aa0",
        "IPY_MODEL_b17a7e5a1bae4d3bb1b1e4985b6f6539"
       ],
       "layout": "IPY_MODEL_a74e1fac9c244a0fac36fc3136622d38"
      }
     },
     "edc85468582c41b39bb0bc6e72220ae9": {
      "model_module": "@jupyter-widgets/controls",
      "model_module_version": "1.4.0",
      "model_name": "IntSliderModel",
      "state": {
       "description": "Image #",
       "layout": "IPY_MODEL_912f9b45b8d7454aa0a6848764d9dcb8",
       "max": 4,
       "style": "IPY_MODEL_24ae8b299c744b83b4e3a68177f5ee3f"
      }
     },
     "f1d56d3eca5244eebbf3389eddec2ac8": {
      "model_module": "@jupyter-widgets/controls",
      "model_module_version": "1.4.0",
      "model_name": "FloatSliderModel",
      "state": {
       "continuous_update": false,
       "description": "Age",
       "layout": "IPY_MODEL_cde26f0b0c114027a9f1355f42d960b5",
       "max": 120,
       "min": 30,
       "step": 0.1,
       "style": "IPY_MODEL_c48f37b4441547eb8cb57bd8cbfeecb8",
       "value": 30
      }
     },
     "f2f8eb25f45b49bf93c96e86be095d40": {
      "model_module": "@jupyter-widgets/controls",
      "model_module_version": "1.4.0",
      "model_name": "DescriptionStyleModel",
      "state": {
       "description_width": ""
      }
     },
     "f33366c7399a4aaebdabda733137d1ab": {
      "model_module": "@jupyter-widgets/controls",
      "model_module_version": "1.4.0",
      "model_name": "IntSliderModel",
      "state": {
       "description": "Image #",
       "layout": "IPY_MODEL_355a6299ecb64ad983ee589861afca27",
       "max": 4,
       "style": "IPY_MODEL_04734fc8f9964fb487199ffbb1972db5"
      }
     },
     "f35a340f424942b5beee909ce286c73a": {
      "model_module": "@jupyter-widgets/controls",
      "model_module_version": "1.4.0",
      "model_name": "SliderStyleModel",
      "state": {
       "description_width": ""
      }
     },
     "f3c3e3fe6e9a4e728d26718a2c8a5d0b": {
      "model_module": "@jupyter-widgets/controls",
      "model_module_version": "1.4.0",
      "model_name": "DescriptionStyleModel",
      "state": {
       "description_width": ""
      }
     },
     "f415a8501b664558bf614a80fa1fe86d": {
      "model_module": "@jupyter-widgets/controls",
      "model_module_version": "1.4.0",
      "model_name": "HBoxModel",
      "state": {
       "children": [
        "IPY_MODEL_1583b428f4144c2981df410d9f36b816",
        "IPY_MODEL_8cbc5cf6d9024771b923eca12c834d6f"
       ],
       "layout": "IPY_MODEL_f6bd44fe4f294cf7845cf059fe9e47ab"
      }
     },
     "f51a15953aa648a4b5d9e39bd1f4fcf6": {
      "model_module": "@jupyter-widgets/base",
      "model_module_version": "1.1.0",
      "model_name": "LayoutModel",
      "state": {}
     },
     "f5b18ee4ad7a4c74ad2db11683128ce1": {
      "model_module": "@jupyter-widgets/controls",
      "model_module_version": "1.4.0",
      "model_name": "SliderStyleModel",
      "state": {
       "description_width": "initial"
      }
     },
     "f68679712bc74e978267266c901eda20": {
      "model_module": "@jupyter-widgets/controls",
      "model_module_version": "1.4.0",
      "model_name": "HBoxModel",
      "state": {
       "children": [
        "IPY_MODEL_86710c2fa6de4755b26a0aba3127fdeb",
        "IPY_MODEL_06c0a953091a4d728996e199244699bd"
       ],
       "layout": "IPY_MODEL_708ab318b5b045f3aae6e4bb7ab7f393"
      }
     },
     "f6bd44fe4f294cf7845cf059fe9e47ab": {
      "model_module": "@jupyter-widgets/base",
      "model_module_version": "1.1.0",
      "model_name": "LayoutModel",
      "state": {}
     },
     "f730423016a8418db75ddae98d5b4415": {
      "model_module": "@jupyter-widgets/controls",
      "model_module_version": "1.4.0",
      "model_name": "CheckboxModel",
      "state": {
       "description": "do(ventricle_volume)",
       "disabled": false,
       "layout": "IPY_MODEL_59479320a8fc462390c62faa0e16361f",
       "style": "IPY_MODEL_25ccaf2e563d4f2a9dd821ee39488616",
       "value": false
      }
     },
     "f826ce78132741c386baac36ff03efd2": {
      "model_module": "@jupyter-widgets/base",
      "model_module_version": "1.1.0",
      "model_name": "LayoutModel",
      "state": {}
     },
     "f8a04ef9ce58484c92cc7f7abe6984f3": {
      "model_module": "@jupyter-widgets/controls",
      "model_module_version": "1.4.0",
      "model_name": "VBoxModel",
      "state": {
       "children": [
        "IPY_MODEL_0e89e853f9944ebf8c4d080d29184547",
        "IPY_MODEL_dbd9de2e1871402d87955154c7848ea2",
        "IPY_MODEL_7f050252620d43ad9f3c66a1f1330e5b"
       ],
       "layout": "IPY_MODEL_e577a8f9d61f4b709c0d1bc445099746"
      }
     },
     "fbef23b5f45a408a8dbff1ead873313f": {
      "model_module": "@jupyter-widgets/controls",
      "model_module_version": "1.4.0",
      "model_name": "SliderStyleModel",
      "state": {
       "description_width": ""
      }
     },
     "fc318e8c84a94a989324693f8971986f": {
      "model_module": "@jupyter-widgets/controls",
      "model_module_version": "1.4.0",
      "model_name": "SliderStyleModel",
      "state": {
       "description_width": ""
      }
     },
     "fd8671fc149b40a1b412f8cbcbc07370": {
      "model_module": "@jupyter-widgets/base",
      "model_module_version": "1.1.0",
      "model_name": "LayoutModel",
      "state": {}
     },
     "fd920d856b2f45678d711f625500a167": {
      "model_module": "@jupyter-widgets/controls",
      "model_module_version": "1.4.0",
      "model_name": "FloatSliderModel",
      "state": {
       "continuous_update": false,
       "description": "Ventricle V. (ml):",
       "layout": "IPY_MODEL_99e3db3be9774514892f548ec92b2c0a",
       "max": 110,
       "min": 11,
       "style": "IPY_MODEL_a4fcc4aeb59c4914a964b61d7d1ad07c",
       "value": 11
      }
     },
     "fe0bf2bb48ba4e8581513579f1a7aa11": {
      "model_module": "@jupyter-widgets/base",
      "model_module_version": "1.1.0",
      "model_name": "LayoutModel",
      "state": {}
     },
     "ff895edcce67407a975d97efa9df19d4": {
      "model_module": "@jupyter-widgets/base",
      "model_module_version": "1.1.0",
      "model_name": "LayoutModel",
      "state": {}
     }
    },
    "version_major": 2,
    "version_minor": 0
   }
  }
 },
 "nbformat": 4,
 "nbformat_minor": 2
}
